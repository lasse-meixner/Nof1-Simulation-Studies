{
 "cells": [
  {
   "cell_type": "code",
   "execution_count": 1,
   "metadata": {},
   "outputs": [],
   "source": [
    "%load_ext autoreload\n",
    "%autoreload 2"
   ]
  },
  {
   "cell_type": "code",
   "execution_count": 3,
   "metadata": {},
   "outputs": [
    {
     "name": "stdout",
     "output_type": "stream",
     "text": [
      "Collecting statsmodels\n",
      "  Downloading statsmodels-0.13.2-cp38-cp38-manylinux_2_17_x86_64.manylinux2014_x86_64.whl (9.9 MB)\n",
      "\u001b[2K     \u001b[90m━━━━━━━━━━━━━━━━━━━━━━━━━━━━━━━━━━━━━━━━\u001b[0m \u001b[32m9.9/9.9 MB\u001b[0m \u001b[31m6.6 MB/s\u001b[0m eta \u001b[36m0:00:00\u001b[0m00:01\u001b[0m00:01\u001b[0m\n",
      "\u001b[?25hRequirement already satisfied: pandas>=0.25 in ./.env/lib/python3.8/site-packages (from statsmodels) (1.3.5)\n",
      "Requirement already satisfied: packaging>=21.3 in ./.env/lib/python3.8/site-packages (from statsmodels) (21.3)\n",
      "Requirement already satisfied: scipy>=1.3 in ./.env/lib/python3.8/site-packages (from statsmodels) (1.7.3)\n",
      "Requirement already satisfied: numpy>=1.17 in ./.env/lib/python3.8/site-packages (from statsmodels) (1.21.5)\n",
      "Collecting patsy>=0.5.2\n",
      "  Using cached patsy-0.5.2-py2.py3-none-any.whl (233 kB)\n",
      "Requirement already satisfied: pyparsing!=3.0.5,>=2.0.2 in ./.env/lib/python3.8/site-packages (from packaging>=21.3->statsmodels) (3.0.9)\n",
      "Requirement already satisfied: python-dateutil>=2.7.3 in ./.env/lib/python3.8/site-packages (from pandas>=0.25->statsmodels) (2.8.2)\n",
      "Requirement already satisfied: pytz>=2017.3 in ./.env/lib/python3.8/site-packages (from pandas>=0.25->statsmodels) (2022.1)\n",
      "Requirement already satisfied: six in ./.env/lib/python3.8/site-packages (from patsy>=0.5.2->statsmodels) (1.16.0)\n",
      "Installing collected packages: patsy, statsmodels\n",
      "Successfully installed patsy-0.5.2 statsmodels-0.13.2\n"
     ]
    }
   ],
   "source": [
    "!pip install statsmodels"
   ]
  },
  {
   "cell_type": "code",
   "execution_count": 2,
   "metadata": {},
   "outputs": [],
   "source": [
    "from CrossOverExperiment import CrossOverExperiment, RCT"
   ]
  },
  {
   "cell_type": "markdown",
   "metadata": {},
   "source": [
    "See examples below for demonstration. Experiments are compared on 90 data points."
   ]
  },
  {
   "cell_type": "markdown",
   "metadata": {},
   "source": [
    "### RCT example"
   ]
  },
  {
   "cell_type": "code",
   "execution_count": 25,
   "metadata": {},
   "outputs": [
    {
     "data": {
      "text/plain": [
       "{'Subjects': 90,\n",
       " 'Base Effect': 2,\n",
       " 'Mu': 1,\n",
       " 'Alpha Standard Deviation': 2,\n",
       " 'Epsilon Standard Deviation': 1}"
      ]
     },
     "execution_count": 25,
     "metadata": {},
     "output_type": "execute_result"
    }
   ],
   "source": [
    "rct = RCT(subjects=90,base_effect=2,mu=1,alpha_sd=2,epsilon_sd=1)\n",
    "rct.params"
   ]
  },
  {
   "cell_type": "code",
   "execution_count": 26,
   "metadata": {},
   "outputs": [
    {
     "name": "stderr",
     "output_type": "stream",
     "text": [
      "100%|██████████| 10000/10000 [00:01<00:00, 8354.59it/s]\n"
     ]
    }
   ],
   "source": [
    "rct.run_t_test(10000)"
   ]
  },
  {
   "cell_type": "code",
   "execution_count": 27,
   "metadata": {},
   "outputs": [
    {
     "data": {
      "text/plain": [
       "{'p_value': 0.0493,\n",
       " 'bias': 0.0054374189634469605,\n",
       " 'mse': 0.22168250610259574,\n",
       " 'power': 0.6807}"
      ]
     },
     "execution_count": 27,
     "metadata": {},
     "output_type": "execute_result"
    }
   ],
   "source": [
    "rct.get_results()"
   ]
  },
  {
   "cell_type": "markdown",
   "metadata": {},
   "source": [
    "### Cross-Over (N-of-1) example"
   ]
  },
  {
   "cell_type": "code",
   "execution_count": 3,
   "metadata": {},
   "outputs": [
    {
     "data": {
      "text/plain": [
       "{'Subjects': 15,\n",
       " 'Periods': 6,\n",
       " 'Base Effect': 2,\n",
       " 'Mu': 1,\n",
       " 'Tau': 0.2,\n",
       " 'Carryover Effect': 0.1,\n",
       " 'Alpha Standard Deviation': 2,\n",
       " 'Epsilon Standard Deviation': 1,\n",
       " 'Error Structure': 'whatever, statsmodels supports only idiosyncratic'}"
      ]
     },
     "execution_count": 3,
     "metadata": {},
     "output_type": "execute_result"
    }
   ],
   "source": [
    "crossover_experiment = CrossOverExperiment(subjects=15,periods=6,base_effect=2,mu=1,tau=0.2,carryover=0.1,alpha_sd=2,epsilon_sd=1,error_type=\"whatever, statsmodels supports only idiosyncratic\")\n",
    "crossover_experiment.params"
   ]
  },
  {
   "cell_type": "code",
   "execution_count": 29,
   "metadata": {},
   "outputs": [
    {
     "name": "stderr",
     "output_type": "stream",
     "text": [
      "100%|██████████| 10000/10000 [00:01<00:00, 5729.46it/s]\n"
     ]
    }
   ],
   "source": [
    "crossover_experiment.run_t_test(10000)"
   ]
  },
  {
   "cell_type": "code",
   "execution_count": 30,
   "metadata": {},
   "outputs": [
    {
     "name": "stdout",
     "output_type": "stream",
     "text": [
      "t_test\n"
     ]
    },
    {
     "data": {
      "text/plain": [
       "{'p_value': 0.0503,\n",
       " 'bias': -0.050603773047524725,\n",
       " 'mse': 0.04876700199800127,\n",
       " 'power': 0.9964}"
      ]
     },
     "execution_count": 30,
     "metadata": {},
     "output_type": "execute_result"
    }
   ],
   "source": [
    "print(crossover_experiment._lastfit)\n",
    "crossover_experiment.get_results(0.95)"
   ]
  },
  {
   "cell_type": "code",
   "execution_count": 39,
   "metadata": {},
   "outputs": [
    {
     "name": "stderr",
     "output_type": "stream",
     "text": [
      "100%|██████████| 100/100 [00:02<00:00, 36.08it/s]\n"
     ]
    }
   ],
   "source": [
    "crossover_experiment.run_mixed_linear_model(100)"
   ]
  },
  {
   "cell_type": "code",
   "execution_count": 40,
   "metadata": {},
   "outputs": [
    {
     "name": "stdout",
     "output_type": "stream",
     "text": [
      "MLM\n"
     ]
    },
    {
     "data": {
      "text/plain": [
       "{'p_value': 0.06,\n",
       " 'bias': 0.014413375205850176,\n",
       " 'mse': 0.06325568213051923,\n",
       " 'power': 0.98}"
      ]
     },
     "execution_count": 40,
     "metadata": {},
     "output_type": "execute_result"
    }
   ],
   "source": [
    "print(crossover_experiment._lastfit)\n",
    "crossover_experiment.get_results(0.95)"
   ]
  },
  {
   "cell_type": "code",
   "execution_count": 33,
   "metadata": {
    "collapsed": true,
    "jupyter": {
     "outputs_hidden": true
    },
    "tags": []
   },
   "outputs": [
    {
     "name": "stderr",
     "output_type": "stream",
     "text": [
      "  0%|          | 0/2 [00:00<?, ?it/s]/Users/lasse/opt/miniconda3/envs/hpi_work/lib/python3.9/site-packages/statsmodels/regression/mixed_linear_model.py:2136: UserWarning: Argument cov_type not used by MixedLM.fit\n",
      "  warnings.warn(\"Argument %s not used by MixedLM.fit\" % x)\n",
      "/Users/lasse/opt/miniconda3/envs/hpi_work/lib/python3.9/site-packages/statsmodels/regression/mixed_linear_model.py:2136: UserWarning: Argument cov_kwds not used by MixedLM.fit\n",
      "  warnings.warn(\"Argument %s not used by MixedLM.fit\" % x)\n",
      "  0%|          | 0/2 [00:00<?, ?it/s]\n"
     ]
    },
    {
     "ename": "AttributeError",
     "evalue": "'MixedLM' object has no attribute 'wexog'",
     "output_type": "error",
     "traceback": [
      "\u001b[0;31m---------------------------------------------------------------------------\u001b[0m",
      "\u001b[0;31mAttributeError\u001b[0m                            Traceback (most recent call last)",
      "\u001b[1;32m/Users/lasse/Library/Mobile Documents/com~apple~CloudDocs/Work/HPI/notebooksv2/Data_Simulation_Python.ipynb Cell 14'\u001b[0m in \u001b[0;36m<cell line: 3>\u001b[0;34m()\u001b[0m\n\u001b[1;32m      <a href='vscode-notebook-cell:/Users/lasse/Library/Mobile%20Documents/com~apple~CloudDocs/Work/HPI/notebooksv2/Data_Simulation_Python.ipynb#ch0000014?line=0'>1</a>\u001b[0m \u001b[39m# Note that this is not supported by statsmodels and hence currently not of this module:\u001b[39;00m\n\u001b[1;32m      <a href='vscode-notebook-cell:/Users/lasse/Library/Mobile%20Documents/com~apple~CloudDocs/Work/HPI/notebooksv2/Data_Simulation_Python.ipynb#ch0000014?line=1'>2</a>\u001b[0m crossover_experiment\u001b[39m.\u001b[39merror_type \u001b[39m=\u001b[39m \u001b[39m\"\u001b[39m\u001b[39mar1\u001b[39m\u001b[39m\"\u001b[39m\n\u001b[0;32m----> <a href='vscode-notebook-cell:/Users/lasse/Library/Mobile%20Documents/com~apple~CloudDocs/Work/HPI/notebooksv2/Data_Simulation_Python.ipynb#ch0000014?line=2'>3</a>\u001b[0m crossover_experiment\u001b[39m.\u001b[39;49mrun_mixed_linear_model(\u001b[39m2\u001b[39;49m)\n",
      "File \u001b[0;32m~/Library/Mobile Documents/com~apple~CloudDocs/Work/HPI/notebooksv2/CrossOverExperiment.py:163\u001b[0m, in \u001b[0;36mCrossOverExperiment.run_mixed_linear_model\u001b[0;34m(self, iterations)\u001b[0m\n\u001b[1;32m    161\u001b[0m     (y0,y1),sub,T,t,cO \u001b[39m=\u001b[39m \u001b[39mself\u001b[39m\u001b[39m.\u001b[39mgenerate_data(return_for_t\u001b[39m=\u001b[39m\u001b[39mFalse\u001b[39;00m)\n\u001b[1;32m    162\u001b[0m     \u001b[39mfor\u001b[39;00m i \u001b[39min\u001b[39;00m tqdm(\u001b[39mrange\u001b[39m(iterations)):\n\u001b[0;32m--> 163\u001b[0m         mlm0 \u001b[39m=\u001b[39m MixedLM(y0,np\u001b[39m.\u001b[39;49marray([np\u001b[39m.\u001b[39;49mones(\u001b[39mlen\u001b[39;49m(T)),T,t,cO])\u001b[39m.\u001b[39;49mT,groups\u001b[39m=\u001b[39;49msub)\u001b[39m.\u001b[39;49mfit(cov_type\u001b[39m=\u001b[39;49m\u001b[39m\"\u001b[39;49m\u001b[39mhac-panel\u001b[39;49m\u001b[39m\"\u001b[39;49m,cov_kwds\u001b[39m=\u001b[39;49m{\u001b[39m\"\u001b[39;49m\u001b[39mgroups\u001b[39;49m\u001b[39m\"\u001b[39;49m:sub,\u001b[39m\"\u001b[39;49m\u001b[39mmaxlags\u001b[39;49m\u001b[39m\"\u001b[39;49m:\u001b[39m1\u001b[39;49m})\u001b[39m.\u001b[39mpvalues[\u001b[39m1\u001b[39m]\n\u001b[1;32m    164\u001b[0m         \u001b[39mself\u001b[39m\u001b[39m.\u001b[39mp_values\u001b[39m.\u001b[39mappend(mlm0\u001b[39m.\u001b[39mpvalues[\u001b[39m1\u001b[39m])\n\u001b[1;32m    166\u001b[0m \u001b[39melif\u001b[39;00m \u001b[39mself\u001b[39m\u001b[39m.\u001b[39merror_type\u001b[39m==\u001b[39m\u001b[39m\"\u001b[39m\u001b[39mcompound\u001b[39m\u001b[39m\"\u001b[39m:\n",
      "File \u001b[0;32m~/opt/miniconda3/envs/hpi_work/lib/python3.9/site-packages/statsmodels/regression/mixed_linear_model.py:2191\u001b[0m, in \u001b[0;36mMixedLM.fit\u001b[0;34m(self, start_params, reml, niter_sa, do_cg, fe_pen, cov_pen, free, full_output, method, **fit_kwargs)\u001b[0m\n\u001b[1;32m   2189\u001b[0m \u001b[39m# Try optimizing one or more times\u001b[39;00m\n\u001b[1;32m   2190\u001b[0m \u001b[39mfor\u001b[39;00m j \u001b[39min\u001b[39;00m \u001b[39mrange\u001b[39m(\u001b[39mlen\u001b[39m(method)):\n\u001b[0;32m-> 2191\u001b[0m     rslt \u001b[39m=\u001b[39m \u001b[39msuper\u001b[39;49m(MixedLM, \u001b[39mself\u001b[39;49m)\u001b[39m.\u001b[39;49mfit(start_params\u001b[39m=\u001b[39;49mpacked,\n\u001b[1;32m   2192\u001b[0m                                     skip_hessian\u001b[39m=\u001b[39;49m\u001b[39mTrue\u001b[39;49;00m,\n\u001b[1;32m   2193\u001b[0m                                     method\u001b[39m=\u001b[39;49mmethod[j],\n\u001b[1;32m   2194\u001b[0m                                     \u001b[39m*\u001b[39;49m\u001b[39m*\u001b[39;49mfit_kwargs)\n\u001b[1;32m   2195\u001b[0m     \u001b[39mif\u001b[39;00m rslt\u001b[39m.\u001b[39mmle_retvals[\u001b[39m'\u001b[39m\u001b[39mconverged\u001b[39m\u001b[39m'\u001b[39m]:\n\u001b[1;32m   2196\u001b[0m         \u001b[39mbreak\u001b[39;00m\n",
      "File \u001b[0;32m~/opt/miniconda3/envs/hpi_work/lib/python3.9/site-packages/statsmodels/base/model.py:597\u001b[0m, in \u001b[0;36mLikelihoodModel.fit\u001b[0;34m(self, start_params, method, maxiter, full_output, disp, fargs, callback, retall, skip_hessian, **kwargs)\u001b[0m\n\u001b[1;32m    594\u001b[0m         Hinv \u001b[39m=\u001b[39m \u001b[39mNone\u001b[39;00m\n\u001b[1;32m    596\u001b[0m \u001b[39m# TODO: add Hessian approximation and change the above if needed\u001b[39;00m\n\u001b[0;32m--> 597\u001b[0m mlefit \u001b[39m=\u001b[39m LikelihoodModelResults(\u001b[39mself\u001b[39;49m, xopt, Hinv, scale\u001b[39m=\u001b[39;49m\u001b[39m1.\u001b[39;49m, \u001b[39m*\u001b[39;49m\u001b[39m*\u001b[39;49mkwds)\n\u001b[1;32m    599\u001b[0m \u001b[39m# TODO: hardcode scale?\u001b[39;00m\n\u001b[1;32m    600\u001b[0m mlefit\u001b[39m.\u001b[39mmle_retvals \u001b[39m=\u001b[39m retvals\n",
      "File \u001b[0;32m~/opt/miniconda3/envs/hpi_work/lib/python3.9/site-packages/statsmodels/base/model.py:1366\u001b[0m, in \u001b[0;36mLikelihoodModelResults.__init__\u001b[0;34m(self, model, params, normalized_cov_params, scale, **kwargs)\u001b[0m\n\u001b[1;32m   1364\u001b[0m use_t \u001b[39m=\u001b[39m \u001b[39mself\u001b[39m\u001b[39m.\u001b[39muse_t\n\u001b[1;32m   1365\u001b[0m \u001b[39m# TODO: we should not need use_t in get_robustcov_results\u001b[39;00m\n\u001b[0;32m-> 1366\u001b[0m get_robustcov_results(\u001b[39mself\u001b[39;49m, cov_type\u001b[39m=\u001b[39;49mcov_type, use_self\u001b[39m=\u001b[39;49m\u001b[39mTrue\u001b[39;49;00m,\n\u001b[1;32m   1367\u001b[0m                       use_t\u001b[39m=\u001b[39;49muse_t, \u001b[39m*\u001b[39;49m\u001b[39m*\u001b[39;49mcov_kwds)\n",
      "File \u001b[0;32m~/opt/miniconda3/envs/hpi_work/lib/python3.9/site-packages/statsmodels/base/covtype.py:330\u001b[0m, in \u001b[0;36mget_robustcov_results\u001b[0;34m(self, cov_type, use_t, **kwds)\u001b[0m\n\u001b[1;32m    328\u001b[0m     groupidx \u001b[39m=\u001b[39m lzip([\u001b[39m0\u001b[39m] \u001b[39m+\u001b[39m tt, tt \u001b[39m+\u001b[39m [nobs_])\n\u001b[1;32m    329\u001b[0m     \u001b[39mself\u001b[39m\u001b[39m.\u001b[39mn_groups \u001b[39m=\u001b[39m n_groups \u001b[39m=\u001b[39m \u001b[39mlen\u001b[39m(groupidx)\n\u001b[0;32m--> 330\u001b[0m     res\u001b[39m.\u001b[39mcov_params_default \u001b[39m=\u001b[39m sw\u001b[39m.\u001b[39;49mcov_nw_panel(\u001b[39mself\u001b[39;49m, maxlags, groupidx,\n\u001b[1;32m    331\u001b[0m                                         weights_func\u001b[39m=\u001b[39;49mweights_func,\n\u001b[1;32m    332\u001b[0m                                         use_correction\u001b[39m=\u001b[39;49muse_correction)\n\u001b[1;32m    333\u001b[0m     res\u001b[39m.\u001b[39mcov_kwds[\u001b[39m'\u001b[39m\u001b[39mdescription\u001b[39m\u001b[39m'\u001b[39m] \u001b[39m=\u001b[39m descriptions[\u001b[39m'\u001b[39m\u001b[39mHAC-Panel\u001b[39m\u001b[39m'\u001b[39m]\n\u001b[1;32m    335\u001b[0m \u001b[39melif\u001b[39;00m cov_type\u001b[39m.\u001b[39mlower() \u001b[39m==\u001b[39m \u001b[39m'\u001b[39m\u001b[39mhac-groupsum\u001b[39m\u001b[39m'\u001b[39m:\n\u001b[1;32m    336\u001b[0m     \u001b[39m# Driscoll-Kraay standard errors\u001b[39;00m\n",
      "File \u001b[0;32m~/opt/miniconda3/envs/hpi_work/lib/python3.9/site-packages/statsmodels/stats/sandwich_covariance.py:785\u001b[0m, in \u001b[0;36mcov_nw_panel\u001b[0;34m(results, nlags, groupidx, weights_func, use_correction)\u001b[0m\n\u001b[1;32m    782\u001b[0m \u001b[39melse\u001b[39;00m:\n\u001b[1;32m    783\u001b[0m     weights \u001b[39m=\u001b[39m weights_func(nlags)\n\u001b[0;32m--> 785\u001b[0m xu, hessian_inv \u001b[39m=\u001b[39m _get_sandwich_arrays(results)\n\u001b[1;32m    787\u001b[0m S_hac \u001b[39m=\u001b[39m S_nw_panel(xu, weights, groupidx)\n\u001b[1;32m    788\u001b[0m cov_hac \u001b[39m=\u001b[39m _HCCM2(hessian_inv, S_hac)\n",
      "File \u001b[0;32m~/opt/miniconda3/envs/hpi_work/lib/python3.9/site-packages/statsmodels/stats/sandwich_covariance.py:242\u001b[0m, in \u001b[0;36m_get_sandwich_arrays\u001b[0;34m(results, cov_type)\u001b[0m\n\u001b[1;32m    240\u001b[0m     hessian_inv \u001b[39m=\u001b[39m np\u001b[39m.\u001b[39mlinalg\u001b[39m.\u001b[39minv(results\u001b[39m.\u001b[39mmodel\u001b[39m.\u001b[39mhessian(results\u001b[39m.\u001b[39mparams))\n\u001b[1;32m    241\u001b[0m \u001b[39melse\u001b[39;00m:\n\u001b[0;32m--> 242\u001b[0m     xu \u001b[39m=\u001b[39m results\u001b[39m.\u001b[39;49mmodel\u001b[39m.\u001b[39;49mwexog \u001b[39m*\u001b[39m results\u001b[39m.\u001b[39mwresid[:, \u001b[39mNone\u001b[39;00m]\n\u001b[1;32m    244\u001b[0m     hessian_inv \u001b[39m=\u001b[39m np\u001b[39m.\u001b[39masarray(results\u001b[39m.\u001b[39mnormalized_cov_params)\n\u001b[1;32m    246\u001b[0m \u001b[39m# experimental support for freq_weights\u001b[39;00m\n",
      "\u001b[0;31mAttributeError\u001b[0m: 'MixedLM' object has no attribute 'wexog'"
     ]
    }
   ],
   "source": [
    "# Note that this is not supported by statsmodels and hence currently not of this module:\n",
    "crossover_experiment.error_type = \"ar1\"\n",
    "crossover_experiment.run_mixed_linear_model(2)"
   ]
  },
  {
   "cell_type": "markdown",
   "metadata": {},
   "source": [
    "## test with new rpy2"
   ]
  },
  {
   "cell_type": "code",
   "execution_count": 4,
   "metadata": {},
   "outputs": [
    {
     "name": "stderr",
     "output_type": "stream",
     "text": [
      "100%|█████████████████████████████████████████████████████████████████████████████████| 100/100 [00:06<00:00, 16.39it/s]\n"
     ]
    }
   ],
   "source": [
    "crossover_experiment.run_mixed_linear_model(100)"
   ]
  },
  {
   "cell_type": "code",
   "execution_count": 5,
   "metadata": {},
   "outputs": [
    {
     "name": "stdout",
     "output_type": "stream",
     "text": [
      "MLM\n"
     ]
    },
    {
     "data": {
      "text/plain": [
       "{'p_value': 0.02,\n",
       " 'bias': -0.01546787401272709,\n",
       " 'mse': 0.06320133724961383,\n",
       " 'power': 0.99}"
      ]
     },
     "execution_count": 5,
     "metadata": {},
     "output_type": "execute_result"
    }
   ],
   "source": [
    "print(crossover_experiment._lastfit)\n",
    "crossover_experiment.get_results(0.95)"
   ]
  },
  {
   "cell_type": "code",
   "execution_count": 6,
   "metadata": {},
   "outputs": [
    {
     "name": "stderr",
     "output_type": "stream",
     "text": [
      "  0%|                                                                                             | 0/2 [00:00<?, ?it/s]R[write to console]: fixed-effect model matrix is rank deficient so dropping 1 column / coefficient\n",
      "\n",
      " 50%|██████████████████████████████████████████▌                                          | 1/2 [00:00<00:00,  6.26it/s]R[write to console]: fixed-effect model matrix is rank deficient so dropping 1 column / coefficient\n",
      "\n",
      "100%|█████████████████████████████████████████████████████████████████████████████████████| 2/2 [00:00<00:00,  7.12it/s]\n"
     ]
    }
   ],
   "source": [
    "# Note that this is not supported by statsmodels and hence currently not of this module:\n",
    "crossover_experiment.error_type = \"ar1\"\n",
    "crossover_experiment.run_mixed_linear_model(2)"
   ]
  }
 ],
 "metadata": {
  "kernelspec": {
   "display_name": "Python 3 (ipykernel)",
   "language": "python",
   "name": "python3"
  },
  "language_info": {
   "codemirror_mode": {
    "name": "ipython",
    "version": 3
   },
   "file_extension": ".py",
   "mimetype": "text/x-python",
   "name": "python",
   "nbconvert_exporter": "python",
   "pygments_lexer": "ipython3",
   "version": "3.8.10"
  },
  "vscode": {
   "interpreter": {
    "hash": "e8c7de229ced8ac03e97b869daa734eb549cc14fefa4125b7e3f3e28ef5fe54e"
   }
  }
 },
 "nbformat": 4,
 "nbformat_minor": 4
}
