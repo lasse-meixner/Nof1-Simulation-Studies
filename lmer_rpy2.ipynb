{
 "cells": [
  {
   "cell_type": "markdown",
   "id": "6db2b8b5-4d64-4cd4-89d2-40289d49fd70",
   "metadata": {},
   "source": [
    "# LMER in rpy2"
   ]
  },
  {
   "cell_type": "raw",
   "id": "f8c8fcb9-a488-48e4-8acd-5d7bc4e74859",
   "metadata": {},
   "source": [
    "# Install R and Rpy2\n",
    "!apt-get install r-base"
   ]
  },
  {
   "cell_type": "raw",
   "id": "0f3ceb83-b44d-41ca-a6cf-4cd25f1b2bb9",
   "metadata": {},
   "source": [
    "!pip install rpy2"
   ]
  },
  {
   "cell_type": "raw",
   "id": "c6d65e42-d624-47bf-8c7d-29be02aa8d0c",
   "metadata": {},
   "source": [
    "!pip install statsmodels"
   ]
  },
  {
   "cell_type": "code",
   "execution_count": 1,
   "id": "9f6a330d-e97b-45b4-a853-0b640fc0602f",
   "metadata": {},
   "outputs": [],
   "source": [
    "%load_ext autoreload\n",
    "%autoreload 2"
   ]
  },
  {
   "cell_type": "code",
   "execution_count": 2,
   "id": "45441a58-6975-4099-8937-51240d091807",
   "metadata": {},
   "outputs": [],
   "source": [
    "from CrossOverExperiment import CrossOverExperiment, RCT\n",
    "\n",
    "import rpy2\n",
    "\n",
    "# Install LMER packages (THIS TAKES ABOUT 3~5 minutes)\n",
    "packnames = ('lme4', 'lmerTest', 'emmeans', \"geepack\")\n",
    "from rpy2.robjects.packages import importr, data\n",
    "from rpy2.robjects.vectors import StrVector\n",
    "\n",
    "utils = importr(\"utils\")\n",
    "utils.chooseCRANmirror(ind=1)\n",
    "\n",
    "import pandas as pd\n",
    "import rpy2.robjects as robjects\n",
    "from rpy2.ipython.ggplot import image_png\n",
    "from rpy2.robjects import pandas2ri# Defining the R script and loading the instance in Python\n",
    "r = robjects.r\n",
    "\n",
    "import numpy as np\n",
    "import pandas as pd\n",
    "\n",
    "pandas2ri.activate()\n",
    "\n",
    "import statsmodels.api as sm"
   ]
  },
  {
   "cell_type": "markdown",
   "id": "52c3ff4a-2440-4588-950d-4fd073fc9325",
   "metadata": {},
   "source": [
    "### I had to install all these in this order before getting lme4 to work with rpy2"
   ]
  },
  {
   "cell_type": "raw",
   "id": "b4babec5-301a-47c8-9607-6b289ba5c9a1",
   "metadata": {
    "jupyter": {
     "outputs_hidden": true
    },
    "tags": []
   },
   "source": [
    "utils.install_packages(\"Rcpp\")"
   ]
  },
  {
   "cell_type": "raw",
   "id": "9ac01ffd-d735-403b-a1cb-2fa4ac28dbab",
   "metadata": {
    "tags": []
   },
   "source": [
    "utils.install_packages(\"crayon\")"
   ]
  },
  {
   "cell_type": "raw",
   "id": "86b4a730-a946-41b9-89a9-f17e364f6800",
   "metadata": {
    "tags": []
   },
   "source": [
    "utils.install_packages(\"magrittr\")"
   ]
  },
  {
   "cell_type": "raw",
   "id": "fd87bec5-82e7-43aa-bc02-ea81ea2dd0e8",
   "metadata": {
    "tags": []
   },
   "source": [
    "utils.install_packages(StrVector((\"R6\",\"ellipsis\")))"
   ]
  },
  {
   "cell_type": "raw",
   "id": "b8222afe-53af-47c8-b4a6-53a7322ec93a",
   "metadata": {
    "tags": []
   },
   "source": [
    "utils.install_packages(\"lifecycle\")"
   ]
  },
  {
   "cell_type": "raw",
   "id": "ea957837-e6dd-4d30-ab44-b0162db0214c",
   "metadata": {
    "tags": []
   },
   "source": [
    "utils.install_packages(\"withr\")"
   ]
  },
  {
   "cell_type": "raw",
   "id": "3c537842-e140-4a5e-bc6e-3e779900524c",
   "metadata": {},
   "source": [
    "!sudo apt install cmake"
   ]
  },
  {
   "cell_type": "raw",
   "id": "386942cf-2ef0-4882-8c04-d8ba313282a2",
   "metadata": {
    "tags": []
   },
   "source": [
    "in R in ubuntu install packages \"nloptr\",\"RcppEigen\" (for some reason this didn't work with utils.install_packages())"
   ]
  },
  {
   "cell_type": "raw",
   "id": "efca7eb0-ee5c-42a4-8a67-fd6bb81ad795",
   "metadata": {},
   "source": [
    "utils.install_packages(\"lazyeval\")"
   ]
  },
  {
   "cell_type": "raw",
   "id": "58adccc0-30b6-4436-bc1a-bb86942cf62b",
   "metadata": {
    "jupyter": {
     "outputs_hidden": true
    },
    "tags": []
   },
   "source": [
    "utils.install_packages(StrVector(packnames))"
   ]
  },
  {
   "cell_type": "markdown",
   "id": "25701aa8-5f7a-4b6b-89c0-59304d05e253",
   "metadata": {},
   "source": [
    "## R imports"
   ]
  },
  {
   "cell_type": "code",
   "execution_count": 3,
   "id": "b05dde19-e3f6-495d-b462-f508bc5b5df8",
   "metadata": {},
   "outputs": [],
   "source": [
    "lme4 = importr('lme4')\n",
    "lmertest = importr('lmerTest')\n",
    "base = importr('base')\n",
    "stats = importr(\"stats\")"
   ]
  },
  {
   "cell_type": "markdown",
   "id": "df4b66bb-081e-471f-a67e-4aa40da38aad",
   "metadata": {},
   "source": [
    "## prepare some test data"
   ]
  },
  {
   "cell_type": "code",
   "execution_count": 4,
   "id": "f48aa489-c118-428b-8224-c8e7f9c3e935",
   "metadata": {},
   "outputs": [
    {
     "data": {
      "text/plain": [
       "{'Subjects': 15,\n",
       " 'Periods': 6,\n",
       " 'Base Effect': 2,\n",
       " 'Mu': 1,\n",
       " 'Tau': 0.2,\n",
       " 'Carryover Effect': 0.1,\n",
       " 'Alpha Standard Deviation': 2,\n",
       " 'Epsilon Standard Deviation': 1,\n",
       " 'Error Structure': 'whatever, statsmodels supports only idiosyncratic'}"
      ]
     },
     "execution_count": 4,
     "metadata": {},
     "output_type": "execute_result"
    }
   ],
   "source": [
    "crossover_experiment = CrossOverExperiment(subjects=15,periods=6,base_effect=2,mu=1,tau=0.2,carryover=0.1,alpha_sd=2,epsilon_sd=1,error_type=\"whatever, statsmodels supports only idiosyncratic\")\n",
    "crossover_experiment.params"
   ]
  },
  {
   "cell_type": "code",
   "execution_count": 5,
   "id": "5ee1cc91-477f-439d-936b-be2503f0d78b",
   "metadata": {},
   "outputs": [],
   "source": [
    "(y0,y1),sub,T,t,cO = crossover_experiment.generate_data(return_for_t=False)"
   ]
  },
  {
   "cell_type": "code",
   "execution_count": 6,
   "id": "3bff06ac-f4e9-4dac-8023-9024721b5e72",
   "metadata": {},
   "outputs": [],
   "source": [
    "exog = pd.DataFrame(np.array([np.ones(len(T)),T,t,cO,sub]).T)#.reset_index()\n",
    "exog.columns = [\"len_T\", \"T\", \"t\", \"c0\", \"sub\"]\n",
    "\n",
    "endog = pd.DataFrame(y0)\n",
    "endog.columns = [\"y0\"]\n",
    "\n",
    "endogexog = pd.concat([endog,exog], axis=1)"
   ]
  },
  {
   "cell_type": "markdown",
   "id": "8d625ceb-6d17-4c3f-b24f-dcc682798e3c",
   "metadata": {},
   "source": [
    "### statsmodels mlm"
   ]
  },
  {
   "cell_type": "code",
   "execution_count": 7,
   "id": "54908f99-e157-4ae4-9bc1-cf2f292af9af",
   "metadata": {},
   "outputs": [],
   "source": [
    "mlm0 = sm.MixedLM(endog=endog,exog=exog.drop(columns=\"sub\"),groups=sub).fit()#.pvalues[1]"
   ]
  },
  {
   "cell_type": "code",
   "execution_count": 8,
   "id": "ce475053-38a6-4733-a3ad-83de3b1cf7f2",
   "metadata": {},
   "outputs": [
    {
     "data": {
      "text/plain": [
       "len_T        0.002307\n",
       "T            0.611383\n",
       "t            0.000554\n",
       "c0           0.880562\n",
       "Group Var    0.020529\n",
       "dtype: float64"
      ]
     },
     "execution_count": 8,
     "metadata": {},
     "output_type": "execute_result"
    }
   ],
   "source": [
    "mlm0.pvalues"
   ]
  },
  {
   "cell_type": "code",
   "execution_count": 9,
   "id": "53c8921d-b35c-4cde-831f-e685798796dc",
   "metadata": {},
   "outputs": [
    {
     "name": "stdout",
     "output_type": "stream",
     "text": [
      "statsmodels==0.13.2\n"
     ]
    }
   ],
   "source": [
    "!pip freeze | grep statsmodels\n",
    "# statsmodels==0.13.2\n",
    "# installing older versions did not erase the error"
   ]
  },
  {
   "cell_type": "raw",
   "id": "138e954b-66d2-478f-92cc-44789d8b641e",
   "metadata": {
    "tags": []
   },
   "source": [
    "!pip install --force-reinstall statsmodels==0.13.2"
   ]
  },
  {
   "cell_type": "code",
   "execution_count": 10,
   "id": "79fb0659-1126-45d6-95eb-1cbd74225aa7",
   "metadata": {},
   "outputs": [
    {
     "data": {
      "text/html": [
       "<table class=\"simpletable\">\n",
       "<tr>\n",
       "       <td>Model:</td>       <td>MixedLM</td> <td>Dependent Variable:</td>    <td>y0</td>    \n",
       "</tr>\n",
       "<tr>\n",
       "  <td>No. Observations:</td>   <td>90</td>          <td>Method:</td>         <td>REML</td>   \n",
       "</tr>\n",
       "<tr>\n",
       "     <td>No. Groups:</td>      <td>15</td>          <td>Scale:</td>         <td>0.9362</td>  \n",
       "</tr>\n",
       "<tr>\n",
       "  <td>Min. group size:</td>     <td>6</td>      <td>Log-Likelihood:</td>   <td>-149.1819</td>\n",
       "</tr>\n",
       "<tr>\n",
       "  <td>Max. group size:</td>     <td>6</td>        <td>Converged:</td>         <td>Yes</td>   \n",
       "</tr>\n",
       "<tr>\n",
       "  <td>Mean group size:</td>    <td>6.0</td>            <td></td>               <td></td>     \n",
       "</tr>\n",
       "</table>\n",
       "<table class=\"simpletable\">\n",
       "<tr>\n",
       "      <td></td>      <th>Coef.</th> <th>Std.Err.</th>   <th>z</th>   <th>P>|z|</th> <th>[0.025</th> <th>0.975]</th>\n",
       "</tr>\n",
       "<tr>\n",
       "  <th>len_T</th>     <td>1.683</td>   <td>0.552</td>  <td>3.048</td> <td>0.002</td>  <td>0.601</td>  <td>2.766</td>\n",
       "</tr>\n",
       "<tr>\n",
       "  <th>T</th>         <td>0.116</td>   <td>0.228</td>  <td>0.508</td> <td>0.611</td> <td>-0.331</td>  <td>0.562</td>\n",
       "</tr>\n",
       "<tr>\n",
       "  <th>t</th>         <td>0.213</td>   <td>0.062</td>  <td>3.453</td> <td>0.001</td>  <td>0.092</td>  <td>0.333</td>\n",
       "</tr>\n",
       "<tr>\n",
       "  <th>c0</th>        <td>0.036</td>   <td>0.241</td>  <td>0.150</td> <td>0.881</td> <td>-0.435</td>  <td>0.508</td>\n",
       "</tr>\n",
       "<tr>\n",
       "  <th>Group Var</th> <td>3.461</td>   <td>1.544</td>    <td></td>      <td></td>       <td></td>       <td></td>   \n",
       "</tr>\n",
       "</table>"
      ],
      "text/plain": [
       "<class 'statsmodels.iolib.summary2.Summary'>\n",
       "\"\"\"\n",
       "         Mixed Linear Model Regression Results\n",
       "=======================================================\n",
       "Model:            MixedLM Dependent Variable: y0       \n",
       "No. Observations: 90      Method:             REML     \n",
       "No. Groups:       15      Scale:              0.9362   \n",
       "Min. group size:  6       Log-Likelihood:     -149.1819\n",
       "Max. group size:  6       Converged:          Yes      \n",
       "Mean group size:  6.0                                  \n",
       "--------------------------------------------------------\n",
       "           Coef.  Std.Err.    z    P>|z|  [0.025  0.975]\n",
       "--------------------------------------------------------\n",
       "len_T      1.683     0.552  3.048  0.002   0.601   2.766\n",
       "T          0.116     0.228  0.508  0.611  -0.331   0.562\n",
       "t          0.213     0.062  3.453  0.001   0.092   0.333\n",
       "c0         0.036     0.241  0.150  0.881  -0.435   0.508\n",
       "Group Var  3.461     1.544                              \n",
       "=======================================================\n",
       "\n",
       "\"\"\""
      ]
     },
     "execution_count": 10,
     "metadata": {},
     "output_type": "execute_result"
    }
   ],
   "source": [
    "mlm0.summary()"
   ]
  },
  {
   "cell_type": "markdown",
   "id": "e5e96b86-01f2-4ce8-8667-f3a48bb44d62",
   "metadata": {},
   "source": [
    "## try lmertest"
   ]
  },
  {
   "cell_type": "code",
   "execution_count": 11,
   "id": "dddec447-0812-4063-b108-f674b03054a0",
   "metadata": {
    "tags": []
   },
   "outputs": [
    {
     "name": "stderr",
     "output_type": "stream",
     "text": [
      "R[write to console]: fixed-effect model matrix is rank deficient so dropping 1 column / coefficient\n",
      "\n"
     ]
    },
    {
     "name": "stdout",
     "output_type": "stream",
     "text": [
      "Linear mixed model fit by REML. t-tests use Satterthwaite's method [\n",
      "lmerModLmerTest]\n",
      "Formula: \"y0 ~ (1|sub) + len_T + T + t + c0\"\n",
      "   Data: \n",
      "structure(list(y0 = c(1.6045185432128, 0.00206142334413695, -0.359708740947737,  \n",
      "-0.447335875847201, -1.02852293956131, 0.609436887251567, 4.00878240811743,  \n",
      "5.1221806207631, 5.60033195851215, 4.39542446208106, 4.05869602330635,  \n",
      "4.22250446597168, 1.21260435564816, 1.44764886721966, 0.974223976023323,  \n",
      "3.31784163742145, 1.59239194339443, 3.29586523328598, 0.392633174391802,  \n",
      "1.03408547279356, 0.669076077136336, 1.31972104898138, -0.307485669296077,  \n",
      "3.90527971937734, 1.12634176626808, 1.70607643907361, 1.94344085783685,  \n",
      "4.44712950449553, 2.69741713206544, 2.32756487141417, 1.68839390404697,  \n",
      "1.92765482223205, 3.62700008060025, 1.74669947770604, 2.50420431466707,  \n",
      "2.39983709472747, 3.21208279555628, 0.273468819427187, 2.64168421923298,  \n",
      "1.50605660138299, 1.87256445747701, 0.678172596445647, 1.88087996363214,  \n",
      "1.82912634109268, 1.44990170242639, 2.57566627869974, 1.47494162327456,  \n",
      "3.55160514549431, 4.05714999427558, 4.32180755076221, 4.74807950999092,  \n",
      "4.77730465491626, 7.14244333540703, 6.80118555798383, 4.51215984587864,  \n",
      "6.24964696876258, 7.21850090619125, 7.58029416149643, 6.77433222331703,  \n",
      "4.76434564769925, 4.32433551361272, 4.16604269069925, 4.77418750276793,  \n",
      "5.41497523223766, 5.12612392613981, 4.68256401584748, -0.0372010452004776,  \n",
      "-0.381277116326787, 0.0826771422246861, -0.719780989612427, 0.831126221989068,  \n",
      "0.976851643418521, -0.904908708797045, -0.585602578158956, -1.82410735046467,  \n",
      "0.91191883357607, 2.12026365896632, 1.8622093845266, 1.08848302057578,  \n",
      "2.98436683306681, 2.76646878240027, 2.20035238991042, 3.41462278657724,  \n",
      "3.65531974756959, 1.8726019537253, 1.21037061623881, 1.98771074950667,  \n",
      "1.70393674071767, 2.06141947643353, 2.53942030235868), len_T = c(1,  \n",
      "1, 1, 1, 1, 1, 1, 1, 1, 1, 1, 1, 1, 1, 1, 1, 1, 1, 1, 1, 1, 1,  \n",
      "1, 1, 1, 1, 1, 1, 1, 1, 1, 1, 1, 1, 1, 1, 1, 1, 1, 1, 1, 1, 1,  \n",
      "1, 1, 1, 1, 1, 1, 1, 1, 1, 1, 1, 1, 1, 1, 1, 1, 1, 1, 1, 1, 1,  \n",
      "1, 1, 1, 1, 1, 1, 1, 1, 1, 1, 1, 1, 1, 1, 1, 1, 1, 1, 1, 1, 1,  \n",
      "1, 1, 1, 1, 1), T = c(1, 0, 1, 0, 0, 1, 0, 1, 1, 0, 0, 1, 1,  \n",
      "0, 0, 1, 1, 0, 1, 0, 0, 1, 1, 0, 1, 0, 1, 0, 0, 1, 1, 0, 0, 1,  \n",
      "0, 1, 1, 0, 0, 1, 0, 1, 1, 0, 0, 1, 0, 1, 0, 1, 1, 0, 1, 0, 0,  \n",
      "1, 0, 1, 1, 0, 0, 1, 1, 0, 0, 1, 0, 1, 1, 0, 1, 0, 0, 1, 1, 0,  \n",
      "1, 0, 0, 1, 0, 1, 1, 0, 1, 0, 1, 0, 0, 1), t = c(1, 2, 3, 4,  \n",
      "5, 6, 1, 2, 3, 4, 5, 6, 1, 2, 3, 4, 5, 6, 1, 2, 3, 4, 5, 6, 1,  \n",
      "2, 3, 4, 5, 6, 1, 2, 3, 4, 5, 6, 1, 2, 3, 4, 5, 6, 1, 2, 3, 4,  \n",
      "5, 6, 1, 2, 3, 4, 5, 6, 1, 2, 3, 4, 5, 6, 1, 2, 3, 4, 5, 6, 1,  \n",
      "2, 3, 4, 5, 6, 1, 2, 3, 4, 5, 6, 1, 2, 3, 4, 5, 6, 1, 2, 3, 4,  \n",
      "5, 6), c0 = c(0, 1, 0, 1, 0, 0, 0, 0, 1, 1, 0, 0, 0, 1, 0, 0,  \n",
      "1, 1, 0, 1, 0, 0, 1, 1, 0, 1, 0, 1, 0, 0, 0, 1, 0, 0, 1, 0, 0,  \n",
      "1, 0, 0, 1, 0, 0, 1, 0, 0, 1, 0, 0, 0, 1, 1, 0, 1, 0, 0, 1, 0,  \n",
      "1, 1, 0, 0, 1, 1, 0, 0, 0, 0, 1, 1, 0, 1, 0, 0, 1, 1, 0, 1, 0,  \n",
      "0, 1, 0, 1, 1, 0, 1, 0, 1, 0, 0), sub = c(1, 1, 1, 1, 1, 1, 2,  \n",
      "2, 2, 2, 2, 2, 3, 3, 3, 3, 3, 3, 4, 4, 4, 4, 4, 4, 5, 5, 5, 5,  \n",
      "5, 5, 6, 6, 6, 6, 6, 6, 7, 7, 7, 7, 7, 7, 8, 8, 8, 8, 8, 8, 9,  \n",
      "9, 9, 9, 9, 9, 10, 10, 10, 10, 10, 10, 11, 11, 11, 11, 11, 11,  \n",
      "12, 12, 12, 12, 12, 12, 13, 13, 13, 13, 13, 13, 14, 14, 14, 14,  \n",
      "14, 14, 15, 15, 15, 15, 15, 15)), class = \"data.frame\", row.names = c(\"0\",  \n",
      "\"1\", \"2\", \"3\", \"4\", \"5\", \"6\", \"7\", \"8\", \"9\", \"10\", \"11\", \"12\",  \n",
      "\"13\", \"14\", \"15\", \"16\", \"17\", \"18\", \"19\", \"20\", \"21\", \"22\", \"23\",  \n",
      "\"24\", \"25\", \"26\", \"27\", \"28\", \"29\", \"30\", \"31\", \"32\", \"33\", \"34\",  \n",
      "\"35\", \"36\", \"37\", \"38\", \"39\", \"40\", \"41\", \"42\", \"43\", \"44\", \"45\",  \n",
      "\"46\", \"47\", \"48\", \"49\", \"50\", \"51\", \"52\", \"53\", \"54\", \"55\", \"56\",  \n",
      "\"57\", \"58\", \"59\", \"60\", \"61\", \"62\", \"63\", \"64\", \"65\", \"66\", \"67\",  \n",
      "\"68\", \"69\", \"70\", \"71\", \"72\", \"73\", \"74\", \"75\", \"76\", \"77\", \"78\",  \n",
      "\"79\", \"80\", \"81\", \"82\", \"83\", \"84\", \"85\", \"86\", \"87\", \"88\", \"89\" ))\n",
      "\n",
      "REML criterion at convergence: 298.4\n",
      "\n",
      "Scaled residuals: \n",
      "    Min      1Q  Median      3Q     Max \n",
      "-2.2258 -0.5579 -0.1159  0.4300  2.2605 \n",
      "\n",
      "Random effects:\n",
      " Groups   Name        Variance Std.Dev.\n",
      " sub      (Intercept) 3.4614   1.8605  \n",
      " Residual             0.9362   0.9676  \n",
      "Number of obs: 90, groups:  sub, 15\n",
      "\n",
      "Fixed effects:\n",
      "            Estimate Std. Error       df t value Pr(>|t|)    \n",
      "(Intercept)  1.68309    0.55227 22.08862   3.048 0.005887 ** \n",
      "T            0.11571    0.22774 72.05053   0.508 0.612934    \n",
      "t            0.21257    0.06156 72.01736   3.453 0.000932 ***\n",
      "c0           0.03615    0.24061 72.24185   0.150 0.880980    \n",
      "---\n",
      "Signif. codes:  0 ‘***’ 0.001 ‘**’ 0.01 ‘*’ 0.05 ‘.’ 0.1 ‘ ’ 1\n",
      "\n",
      "Correlation of Fixed Effects:\n",
      "   (Intr) T      t     \n",
      "T  -0.246              \n",
      "t  -0.326 -0.102       \n",
      "c0 -0.176  0.445 -0.243\n",
      "fit warnings:\n",
      "fixed-effect model matrix is rank deficient so dropping 1 column / coefficient\n",
      "\n"
     ]
    }
   ],
   "source": [
    "fm2 = lmertest.lmer('y0 ~ (1|sub) + len_T + T + t + c0', data = endogexog)\n",
    "print(base.summary(fm2))"
   ]
  },
  {
   "cell_type": "markdown",
   "id": "783cc007-5161-430b-84e7-a7661213600d",
   "metadata": {},
   "source": [
    "## try to extract p-values"
   ]
  },
  {
   "cell_type": "code",
   "execution_count": 12,
   "id": "c4d66b25-36f2-45d4-bcf4-2735646bc387",
   "metadata": {},
   "outputs": [
    {
     "name": "stderr",
     "output_type": "stream",
     "text": [
      "R[write to console]: fixed-effect model matrix is rank deficient so dropping 1 column / coefficient\n",
      "\n"
     ]
    },
    {
     "name": "stdout",
     "output_type": "stream",
     "text": [
      "Type III Analysis of Variance Table with Satterthwaite's method\n",
      "       Sum Sq Mean Sq NumDF  DenDF F value    Pr(>F)    \n",
      "T      0.2417  0.2417     1 72.051  0.2582 0.6129340    \n",
      "t     11.1633 11.1633     1 72.017 11.9240 0.0009318 ***\n",
      "c0     0.0211  0.0211     1 72.242  0.0226 0.8809805    \n",
      "len_T                                                   \n",
      "---\n",
      "Signif. codes:  0 ‘***’ 0.001 ‘**’ 0.01 ‘*’ 0.05 ‘.’ 0.1 ‘ ’ 1\n",
      "\n"
     ]
    }
   ],
   "source": [
    "fm2 = lmertest.lmer('y0 ~ (1|sub) + len_T + T + t + c0', data = endogexog)\n",
    "print(stats.anova(fm2))"
   ]
  },
  {
   "cell_type": "code",
   "execution_count": 13,
   "id": "2c04d2bc-0940-4dc4-a948-072705a54e44",
   "metadata": {},
   "outputs": [],
   "source": [
    "fm2anova = stats.anova(fm2)"
   ]
  },
  {
   "cell_type": "code",
   "execution_count": 14,
   "id": "39795148-7413-4231-bb45-151ae24893ab",
   "metadata": {},
   "outputs": [
    {
     "data": {
      "text/plain": [
       "0.6129340390657186"
      ]
     },
     "execution_count": 14,
     "metadata": {},
     "output_type": "execute_result"
    }
   ],
   "source": [
    "fm2anova.rx2(\"Pr(>F)\")[0] # p_values"
   ]
  },
  {
   "cell_type": "code",
   "execution_count": 15,
   "id": "df30c1ee-96dd-498e-8862-e464fd8f5120",
   "metadata": {},
   "outputs": [
    {
     "data": {
      "text/plain": [
       "array([0.61293404, 0.00093177, 0.88098045,        nan])"
      ]
     },
     "execution_count": 15,
     "metadata": {},
     "output_type": "execute_result"
    }
   ],
   "source": [
    "fm2anova.rx2(\"Pr(>F)\") # p_values"
   ]
  },
  {
   "cell_type": "code",
   "execution_count": 16,
   "id": "0769d683-0037-47a5-8c48-b73f51a59b8d",
   "metadata": {},
   "outputs": [
    {
     "data": {
      "text/plain": [
       "len_T        0.002307\n",
       "T            0.611383\n",
       "t            0.000554\n",
       "c0           0.880562\n",
       "Group Var    0.020529\n",
       "dtype: float64"
      ]
     },
     "execution_count": 16,
     "metadata": {},
     "output_type": "execute_result"
    }
   ],
   "source": [
    "mlm0.pvalues"
   ]
  },
  {
   "cell_type": "code",
   "execution_count": 17,
   "id": "c75e7683-20f4-4fde-9b93-469374e16e51",
   "metadata": {},
   "outputs": [
    {
     "data": {
      "text/html": [
       "<table class=\"simpletable\">\n",
       "<tr>\n",
       "       <td>Model:</td>       <td>MixedLM</td> <td>Dependent Variable:</td>    <td>y0</td>    \n",
       "</tr>\n",
       "<tr>\n",
       "  <td>No. Observations:</td>   <td>90</td>          <td>Method:</td>         <td>REML</td>   \n",
       "</tr>\n",
       "<tr>\n",
       "     <td>No. Groups:</td>      <td>15</td>          <td>Scale:</td>         <td>0.9362</td>  \n",
       "</tr>\n",
       "<tr>\n",
       "  <td>Min. group size:</td>     <td>6</td>      <td>Log-Likelihood:</td>   <td>-149.1819</td>\n",
       "</tr>\n",
       "<tr>\n",
       "  <td>Max. group size:</td>     <td>6</td>        <td>Converged:</td>         <td>Yes</td>   \n",
       "</tr>\n",
       "<tr>\n",
       "  <td>Mean group size:</td>    <td>6.0</td>            <td></td>               <td></td>     \n",
       "</tr>\n",
       "</table>\n",
       "<table class=\"simpletable\">\n",
       "<tr>\n",
       "      <td></td>      <th>Coef.</th> <th>Std.Err.</th>   <th>z</th>   <th>P>|z|</th> <th>[0.025</th> <th>0.975]</th>\n",
       "</tr>\n",
       "<tr>\n",
       "  <th>len_T</th>     <td>1.683</td>   <td>0.552</td>  <td>3.048</td> <td>0.002</td>  <td>0.601</td>  <td>2.766</td>\n",
       "</tr>\n",
       "<tr>\n",
       "  <th>T</th>         <td>0.116</td>   <td>0.228</td>  <td>0.508</td> <td>0.611</td> <td>-0.331</td>  <td>0.562</td>\n",
       "</tr>\n",
       "<tr>\n",
       "  <th>t</th>         <td>0.213</td>   <td>0.062</td>  <td>3.453</td> <td>0.001</td>  <td>0.092</td>  <td>0.333</td>\n",
       "</tr>\n",
       "<tr>\n",
       "  <th>c0</th>        <td>0.036</td>   <td>0.241</td>  <td>0.150</td> <td>0.881</td> <td>-0.435</td>  <td>0.508</td>\n",
       "</tr>\n",
       "<tr>\n",
       "  <th>Group Var</th> <td>3.461</td>   <td>1.544</td>    <td></td>      <td></td>       <td></td>       <td></td>   \n",
       "</tr>\n",
       "</table>"
      ],
      "text/plain": [
       "<class 'statsmodels.iolib.summary2.Summary'>\n",
       "\"\"\"\n",
       "         Mixed Linear Model Regression Results\n",
       "=======================================================\n",
       "Model:            MixedLM Dependent Variable: y0       \n",
       "No. Observations: 90      Method:             REML     \n",
       "No. Groups:       15      Scale:              0.9362   \n",
       "Min. group size:  6       Log-Likelihood:     -149.1819\n",
       "Max. group size:  6       Converged:          Yes      \n",
       "Mean group size:  6.0                                  \n",
       "--------------------------------------------------------\n",
       "           Coef.  Std.Err.    z    P>|z|  [0.025  0.975]\n",
       "--------------------------------------------------------\n",
       "len_T      1.683     0.552  3.048  0.002   0.601   2.766\n",
       "T          0.116     0.228  0.508  0.611  -0.331   0.562\n",
       "t          0.213     0.062  3.453  0.001   0.092   0.333\n",
       "c0         0.036     0.241  0.150  0.881  -0.435   0.508\n",
       "Group Var  3.461     1.544                              \n",
       "=======================================================\n",
       "\n",
       "\"\"\""
      ]
     },
     "execution_count": 17,
     "metadata": {},
     "output_type": "execute_result"
    }
   ],
   "source": [
    "mlm0.summary()"
   ]
  },
  {
   "cell_type": "code",
   "execution_count": 18,
   "id": "a02ccac7-29ad-4eea-b974-d823e091cc0b",
   "metadata": {},
   "outputs": [
    {
     "name": "stdout",
     "output_type": "stream",
     "text": [
      "Type III Analysis of Variance Table with Satterthwaite's method\n",
      "       Sum Sq Mean Sq NumDF  DenDF F value    Pr(>F)    \n",
      "T      0.2417  0.2417     1 72.051  0.2582 0.6129340    \n",
      "t     11.1633 11.1633     1 72.017 11.9240 0.0009318 ***\n",
      "c0     0.0211  0.0211     1 72.242  0.0226 0.8809805    \n",
      "len_T                                                   \n",
      "---\n",
      "Signif. codes:  0 ‘***’ 0.001 ‘**’ 0.01 ‘*’ 0.05 ‘.’ 0.1 ‘ ’ 1\n",
      "\n"
     ]
    }
   ],
   "source": [
    "print(stats.anova(fm2))"
   ]
  },
  {
   "cell_type": "code",
   "execution_count": 19,
   "id": "a9713d03-93cf-4b62-8eb1-e83146b3d230",
   "metadata": {},
   "outputs": [],
   "source": [
    "formula = robjects.Formula('y0 ~ T + t + c0')\n",
    "random = robjects.Formula('~1|sub')"
   ]
  },
  {
   "cell_type": "code",
   "execution_count": 22,
   "id": "881b1203-de3b-4f2f-8855-0dbea511e700",
   "metadata": {},
   "outputs": [],
   "source": [
    "# apparently you can provide a correlation= argument here for the AR1\n",
    "\n",
    "nlme = importr(\"nlme\")\n",
    "m1 = nlme.lme(formula,random=random,data=endogexog)"
   ]
  },
  {
   "cell_type": "code",
   "execution_count": 23,
   "id": "8759e055-a14e-48ed-91da-fcca79fd131b",
   "metadata": {},
   "outputs": [
    {
     "name": "stdout",
     "output_type": "stream",
     "text": [
      "            numDF denDF   F-value p-value\n",
      "(Intercept)     1    72 25.911913  <.0001\n",
      "T               1    72  0.220223  0.6403\n",
      "t               1    72 12.938104  0.0006\n",
      "c0              1    72  0.022577  0.8810\n",
      "\n"
     ]
    }
   ],
   "source": [
    "print(stats.anova(m1))"
   ]
  }
 ],
 "metadata": {
  "kernelspec": {
   "display_name": "Python 3 (ipykernel)",
   "language": "python",
   "name": "python3"
  },
  "language_info": {
   "codemirror_mode": {
    "name": "ipython",
    "version": 3
   },
   "file_extension": ".py",
   "mimetype": "text/x-python",
   "name": "python",
   "nbconvert_exporter": "python",
   "pygments_lexer": "ipython3",
   "version": "3.8.10"
  }
 },
 "nbformat": 4,
 "nbformat_minor": 5
}
