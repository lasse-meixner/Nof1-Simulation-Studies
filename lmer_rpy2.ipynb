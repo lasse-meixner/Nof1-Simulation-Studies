{
 "cells": [
  {
   "cell_type": "markdown",
   "id": "6db2b8b5-4d64-4cd4-89d2-40289d49fd70",
   "metadata": {},
   "source": [
    "# LMER in rpy2"
   ]
  },
  {
   "cell_type": "raw",
   "id": "f8c8fcb9-a488-48e4-8acd-5d7bc4e74859",
   "metadata": {},
   "source": [
    "# Install R and Rpy2\n",
    "!apt-get install r-base"
   ]
  },
  {
   "cell_type": "raw",
   "id": "0f3ceb83-b44d-41ca-a6cf-4cd25f1b2bb9",
   "metadata": {},
   "source": [
    "!pip install rpy2"
   ]
  },
  {
   "cell_type": "raw",
   "id": "c6d65e42-d624-47bf-8c7d-29be02aa8d0c",
   "metadata": {},
   "source": [
    "!pip install statsmodels"
   ]
  },
  {
   "cell_type": "code",
   "execution_count": 1,
   "id": "9f6a330d-e97b-45b4-a853-0b640fc0602f",
   "metadata": {},
   "outputs": [],
   "source": [
    "%load_ext autoreload\n",
    "%autoreload 2"
   ]
  },
  {
   "cell_type": "code",
   "execution_count": 3,
   "id": "86282942-5249-437a-a948-202e16eccc2b",
   "metadata": {},
   "outputs": [],
   "source": [
    "from CrossOverExperiment import CrossOverExperiment, RCT\n",
    "\n",
    "import rpy2\n",
    "\n",
    "# Install LMER packages (THIS TAKES ABOUT 3~5 minutes)\n",
    "packnames = ('lme4', 'lmerTest', 'emmeans', \"geepack\")\n",
    "from rpy2.robjects.packages import importr, data\n",
    "from rpy2.robjects.vectors import StrVector\n",
    "\n",
    "utils = importr(\"utils\")\n",
    "utils.chooseCRANmirror(ind=1)\n",
    "\n",
    "import pandas as pd\n",
    "import rpy2.robjects as robjects\n",
    "from rpy2.ipython.ggplot import image_png\n",
    "from rpy2.robjects import pandas2ri# Defining the R script and loading the instance in Python\n",
    "r = robjects.r\n",
    "\n",
    "from statsmodels.api import MixedLM\n",
    "\n",
    "\n",
    "import numpy as np\n",
    "import pandas as pd\n",
    "\n",
    "pandas2ri.activate()"
   ]
  },
  {
   "cell_type": "markdown",
   "id": "52c3ff4a-2440-4588-950d-4fd073fc9325",
   "metadata": {},
   "source": [
    "### I had to install all these in this order before getting lme4 to work with rpy2"
   ]
  },
  {
   "cell_type": "raw",
   "id": "b4babec5-301a-47c8-9607-6b289ba5c9a1",
   "metadata": {
    "jupyter": {
     "outputs_hidden": true
    },
    "tags": []
   },
   "source": [
    "utils.install_packages(\"Rcpp\")"
   ]
  },
  {
   "cell_type": "raw",
   "id": "9ac01ffd-d735-403b-a1cb-2fa4ac28dbab",
   "metadata": {
    "tags": []
   },
   "source": [
    "utils.install_packages(\"crayon\")"
   ]
  },
  {
   "cell_type": "raw",
   "id": "86b4a730-a946-41b9-89a9-f17e364f6800",
   "metadata": {
    "tags": []
   },
   "source": [
    "utils.install_packages(\"magrittr\")"
   ]
  },
  {
   "cell_type": "raw",
   "id": "fd87bec5-82e7-43aa-bc02-ea81ea2dd0e8",
   "metadata": {
    "tags": []
   },
   "source": [
    "utils.install_packages(StrVector((\"R6\",\"ellipsis\")))"
   ]
  },
  {
   "cell_type": "raw",
   "id": "b8222afe-53af-47c8-b4a6-53a7322ec93a",
   "metadata": {
    "tags": []
   },
   "source": [
    "utils.install_packages(\"lifecycle\")"
   ]
  },
  {
   "cell_type": "raw",
   "id": "ea957837-e6dd-4d30-ab44-b0162db0214c",
   "metadata": {
    "tags": []
   },
   "source": [
    "utils.install_packages(\"withr\")"
   ]
  },
  {
   "cell_type": "raw",
   "id": "3c537842-e140-4a5e-bc6e-3e779900524c",
   "metadata": {},
   "source": [
    "!sudo apt install cmake"
   ]
  },
  {
   "cell_type": "raw",
   "id": "386942cf-2ef0-4882-8c04-d8ba313282a2",
   "metadata": {
    "tags": []
   },
   "source": [
    "in R in ubuntu install packages \"nloptr\",\"RcppEigen\" (for some reason this didn't work with utils.install_packages())"
   ]
  },
  {
   "cell_type": "raw",
   "id": "efca7eb0-ee5c-42a4-8a67-fd6bb81ad795",
   "metadata": {},
   "source": [
    "utils.install_packages(\"lazyeval\")"
   ]
  },
  {
   "cell_type": "raw",
   "id": "58adccc0-30b6-4436-bc1a-bb86942cf62b",
   "metadata": {
    "jupyter": {
     "outputs_hidden": true
    },
    "tags": []
   },
   "source": [
    "utils.install_packages(StrVector(packnames))"
   ]
  },
  {
   "cell_type": "markdown",
   "id": "25701aa8-5f7a-4b6b-89c0-59304d05e253",
   "metadata": {},
   "source": [
    "## R imports"
   ]
  },
  {
   "cell_type": "code",
   "execution_count": 82,
   "id": "b05dde19-e3f6-495d-b462-f508bc5b5df8",
   "metadata": {},
   "outputs": [],
   "source": [
    "lme4 = importr('lme4')\n",
    "lmertest = importr('lmerTest')\n",
    "\n",
    "base = importr('base')\n",
    "\n",
    "stats = importr(\"stats\")"
   ]
  },
  {
   "cell_type": "markdown",
   "id": "df4b66bb-081e-471f-a67e-4aa40da38aad",
   "metadata": {},
   "source": [
    "## prepare some test data"
   ]
  },
  {
   "cell_type": "code",
   "execution_count": 31,
   "id": "f48aa489-c118-428b-8224-c8e7f9c3e935",
   "metadata": {},
   "outputs": [
    {
     "data": {
      "text/plain": [
       "{'Subjects': 15,\n",
       " 'Periods': 6,\n",
       " 'Base Effect': 2,\n",
       " 'Mu': 1,\n",
       " 'Tau': 0.2,\n",
       " 'Carryover Effect': 0.1,\n",
       " 'Alpha Standard Deviation': 2,\n",
       " 'Epsilon Standard Deviation': 1,\n",
       " 'Error Structure': 'whatever, statsmodels supports only idiosyncratic'}"
      ]
     },
     "execution_count": 31,
     "metadata": {},
     "output_type": "execute_result"
    }
   ],
   "source": [
    "crossover_experiment = CrossOverExperiment(subjects=15,periods=6,base_effect=2,mu=1,tau=0.2,carryover=0.1,alpha_sd=2,epsilon_sd=1,error_type=\"whatever, statsmodels supports only idiosyncratic\")\n",
    "crossover_experiment.params"
   ]
  },
  {
   "cell_type": "code",
   "execution_count": 32,
   "id": "5ee1cc91-477f-439d-936b-be2503f0d78b",
   "metadata": {},
   "outputs": [],
   "source": [
    "(y0,y1),sub,T,t,cO = crossover_experiment.generate_data(return_for_t=False)"
   ]
  },
  {
   "cell_type": "code",
   "execution_count": 78,
   "id": "ee3a368d-f22d-4dfd-907c-e724d42e41aa",
   "metadata": {},
   "outputs": [],
   "source": [
    "exog = pd.DataFrame(np.array([np.ones(len(T)),T,t,cO,sub]).T)#.reset_index()\n",
    "exog.columns = [\"len_T\", \"T\", \"t\", \"c0\", \"sub\"]"
   ]
  },
  {
   "cell_type": "code",
   "execution_count": 69,
   "id": "a97a516a-a01b-4703-a269-bf301700dbc4",
   "metadata": {},
   "outputs": [],
   "source": [
    "endog = pd.DataFrame(y0)\n",
    "endog.columns = [\"y0\"]"
   ]
  },
  {
   "cell_type": "code",
   "execution_count": 79,
   "id": "e99f31ad-c5c9-4355-925d-cc42b83bdc37",
   "metadata": {},
   "outputs": [],
   "source": [
    "endogexog = pd.concat([endog,exog], axis=1)"
   ]
  },
  {
   "cell_type": "markdown",
   "id": "e5e96b86-01f2-4ce8-8667-f3a48bb44d62",
   "metadata": {},
   "source": [
    "## try 2 ways"
   ]
  },
  {
   "cell_type": "code",
   "execution_count": 80,
   "id": "bbe91122-6bcf-429b-a3cc-87ef040456c0",
   "metadata": {
    "collapsed": true,
    "jupyter": {
     "outputs_hidden": true
    },
    "tags": []
   },
   "outputs": [
    {
     "name": "stderr",
     "output_type": "stream",
     "text": [
      "R[write to console]: fixed-effect model matrix is rank deficient so dropping 1 column / coefficient\n",
      "\n"
     ]
    },
    {
     "name": "stdout",
     "output_type": "stream",
     "text": [
      "Linear mixed model fit by REML ['lmerMod']\n",
      "Formula: y0 ~ (1 | sub) + len_T + T + t + c0\n",
      "   Data: \n",
      "structure(list(y0 = c(2.83089032345401, 1.39934989553122, 2.47476391970883,  \n",
      "1.76987801883385, 1.64351434211287, 2.48411842880599, 5.63568855005975,  \n",
      "5.96005189503025, 4.98576721774086, 5.45958923593027, 5.45231160460251,  \n",
      "4.51150622184518, 1.34596182764986, 1.02259349638255, 1.11321222992043,  \n",
      "2.08687037623647, 0.528790982436147, 1.48663652936439, 1.37898568557442,  \n",
      "1.99508634583664, 2.68271867927307, 3.53683576570774, 1.15027961425394,  \n",
      "2.11234722992763, 3.93368739241317, 4.45541594948876, 3.16892831932006,  \n",
      "5.40659848666555, 4.37131590388065, 4.17287736973744, 3.81020046729932,  \n",
      "3.18514249563821, 2.69272603378357, 1.65474286344309, 4.98290321041136,  \n",
      "6.30714578815309, 2.47465045923392, 1.1189609952358, 2.17922358560418,  \n",
      "1.58566915310148, 2.86895998169964, 3.49344743562697, 2.08719401734007,  \n",
      "0.052770106190118, 0.59528185753668, 2.58940103715813, 0.196016615119232,  \n",
      "2.58992461357713, 2.06894168170247, 5.44423676476449, 4.48336099112479,  \n",
      "5.03390362346192, 4.58777777959941, 5.58868182821341, 1.95426279534256,  \n",
      "2.40800710866018, 0.878181089852845, 1.65023945229536, 4.03076617070305,  \n",
      "3.57504316202101, 2.31220209936129, 0.855102501612132, 1.829043786146,  \n",
      "0.877198755562255, 1.02082034932092, 1.80853877915701, 1.15726696141281,  \n",
      "0.930644411393882, 0.953489973975335, 1.78370688951458, 0.102927473484191,  \n",
      "-0.102177063586097, 4.52155675937815, 8.35662789599819, 5.36871596722811,  \n",
      "7.74433796718671, 5.44135288496921, 5.64680263324311, 4.43387914123446,  \n",
      "4.64954948090065, 6.4989936329898, 6.507339379886, 6.14167105184313,  \n",
      "5.63675183693024, 1.78626760276496, 0.961870239620093, 5.6055274700607,  \n",
      "3.09856687815619, 4.82684096666783, 3.1470330873419), len_T = c(1,  \n",
      "1, 1, 1, 1, 1, 1, 1, 1, 1, 1, 1, 1, 1, 1, 1, 1, 1, 1, 1, 1, 1,  \n",
      "1, 1, 1, 1, 1, 1, 1, 1, 1, 1, 1, 1, 1, 1, 1, 1, 1, 1, 1, 1, 1,  \n",
      "1, 1, 1, 1, 1, 1, 1, 1, 1, 1, 1, 1, 1, 1, 1, 1, 1, 1, 1, 1, 1,  \n",
      "1, 1, 1, 1, 1, 1, 1, 1, 1, 1, 1, 1, 1, 1, 1, 1, 1, 1, 1, 1, 1,  \n",
      "1, 1, 1, 1, 1), T = c(0, 1, 1, 0, 0, 1, 0, 1, 0, 1, 1, 0, 1,  \n",
      "0, 1, 0, 1, 0, 0, 1, 0, 1, 1, 0, 1, 0, 0, 1, 1, 0, 0, 1, 1, 0,  \n",
      "0, 1, 1, 0, 1, 0, 0, 1, 1, 0, 0, 1, 1, 0, 0, 1, 1, 0, 1, 0, 0,  \n",
      "1, 0, 1, 0, 1, 0, 1, 1, 0, 1, 0, 1, 0, 0, 1, 1, 0, 0, 1, 0, 1,  \n",
      "1, 0, 1, 0, 0, 1, 0, 1, 0, 1, 0, 1, 1, 0), t = c(1, 2, 3, 4,  \n",
      "5, 6, 1, 2, 3, 4, 5, 6, 1, 2, 3, 4, 5, 6, 1, 2, 3, 4, 5, 6, 1,  \n",
      "2, 3, 4, 5, 6, 1, 2, 3, 4, 5, 6, 1, 2, 3, 4, 5, 6, 1, 2, 3, 4,  \n",
      "5, 6, 1, 2, 3, 4, 5, 6, 1, 2, 3, 4, 5, 6, 1, 2, 3, 4, 5, 6, 1,  \n",
      "2, 3, 4, 5, 6, 1, 2, 3, 4, 5, 6, 1, 2, 3, 4, 5, 6, 1, 2, 3, 4,  \n",
      "5, 6), c0 = c(0, 0, 1, 1, 0, 0, 0, 0, 1, 0, 1, 1, 0, 1, 0, 1,  \n",
      "0, 1, 0, 0, 1, 0, 1, 1, 0, 1, 0, 0, 1, 1, 0, 0, 1, 1, 0, 0, 0,  \n",
      "1, 0, 1, 0, 0, 0, 1, 0, 0, 1, 1, 0, 0, 1, 1, 0, 1, 0, 0, 1, 0,  \n",
      "1, 0, 0, 0, 1, 1, 0, 1, 0, 1, 0, 0, 1, 1, 0, 0, 1, 0, 1, 1, 0,  \n",
      "1, 0, 0, 1, 0, 0, 0, 1, 0, 1, 1), sub = c(1, 1, 1, 1, 1, 1, 2,  \n",
      "2, 2, 2, 2, 2, 3, 3, 3, 3, 3, 3, 4, 4, 4, 4, 4, 4, 5, 5, 5, 5,  \n",
      "5, 5, 6, 6, 6, 6, 6, 6, 7, 7, 7, 7, 7, 7, 8, 8, 8, 8, 8, 8, 9,  \n",
      "9, 9, 9, 9, 9, 10, 10, 10, 10, 10, 10, 11, 11, 11, 11, 11, 11,  \n",
      "12, 12, 12, 12, 12, 12, 13, 13, 13, 13, 13, 13, 14, 14, 14, 14,  \n",
      "14, 14, 15, 15, 15, 15, 15, 15)), class = \"data.frame\", row.names = c(\"0\",  \n",
      "\"1\", \"2\", \"3\", \"4\", \"5\", \"6\", \"7\", \"8\", \"9\", \"10\", \"11\", \"12\",  \n",
      "\"13\", \"14\", \"15\", \"16\", \"17\", \"18\", \"19\", \"20\", \"21\", \"22\", \"23\",  \n",
      "\"24\", \"25\", \"26\", \"27\", \"28\", \"29\", \"30\", \"31\", \"32\", \"33\", \"34\",  \n",
      "\"35\", \"36\", \"37\", \"38\", \"39\", \"40\", \"41\", \"42\", \"43\", \"44\", \"45\",  \n",
      "\"46\", \"47\", \"48\", \"49\", \"50\", \"51\", \"52\", \"53\", \"54\", \"55\", \"56\",  \n",
      "\"57\", \"58\", \"59\", \"60\", \"61\", \"62\", \"63\", \"64\", \"65\", \"66\", \"67\",  \n",
      "\"68\", \"69\", \"70\", \"71\", \"72\", \"73\", \"74\", \"75\", \"76\", \"77\", \"78\",  \n",
      "\"79\", \"80\", \"81\", \"82\", \"83\", \"84\", \"85\", \"86\", \"87\", \"88\", \"89\" ))\n",
      "\n",
      "REML criterion at convergence: 304.8\n",
      "\n",
      "Scaled residuals: \n",
      "     Min       1Q   Median       3Q      Max \n",
      "-2.21289 -0.65723 -0.06542  0.71742  2.67033 \n",
      "\n",
      "Random effects:\n",
      " Groups   Name        Variance Std.Dev.\n",
      " sub      (Intercept) 2.837    1.684   \n",
      " Residual             1.062    1.030   \n",
      "Number of obs: 90, groups:  sub, 15\n",
      "\n",
      "Fixed effects:\n",
      "            Estimate Std. Error t value\n",
      "(Intercept)   2.5831     0.5168   4.998\n",
      "T             0.1625     0.2421   0.671\n",
      "t             0.1813     0.0697   2.601\n",
      "c0           -0.4069     0.2654  -1.533\n",
      "\n",
      "Correlation of Fixed Effects:\n",
      "   (Intr) T      t     \n",
      "T  -0.247              \n",
      "t  -0.335 -0.186       \n",
      "c0 -0.138  0.441 -0.409\n",
      "fit warnings:\n",
      "fixed-effect model matrix is rank deficient so dropping 1 column / coefficient\n",
      "\n"
     ]
    }
   ],
   "source": [
    "fm1 = lme4.lmer('y0 ~ (1|sub) + len_T + T + t + c0', data = endogexog)\n",
    "print(base.summary(fm1))"
   ]
  },
  {
   "cell_type": "code",
   "execution_count": 92,
   "id": "dddec447-0812-4063-b108-f674b03054a0",
   "metadata": {},
   "outputs": [
    {
     "name": "stderr",
     "output_type": "stream",
     "text": [
      "R[write to console]: fixed-effect model matrix is rank deficient so dropping 1 column / coefficient\n",
      "\n"
     ]
    },
    {
     "name": "stdout",
     "output_type": "stream",
     "text": [
      "Linear mixed model fit by REML. t-tests use Satterthwaite's method [\n",
      "lmerModLmerTest]\n",
      "Formula: \"y0 ~ (1|sub) + len_T + T + t + c0\"\n",
      "   Data: \n",
      "structure(list(y0 = c(2.83089032345401, 1.39934989553122, 2.47476391970883,  \n",
      "1.76987801883385, 1.64351434211287, 2.48411842880599, 5.63568855005975,  \n",
      "5.96005189503025, 4.98576721774086, 5.45958923593027, 5.45231160460251,  \n",
      "4.51150622184518, 1.34596182764986, 1.02259349638255, 1.11321222992043,  \n",
      "2.08687037623647, 0.528790982436147, 1.48663652936439, 1.37898568557442,  \n",
      "1.99508634583664, 2.68271867927307, 3.53683576570774, 1.15027961425394,  \n",
      "2.11234722992763, 3.93368739241317, 4.45541594948876, 3.16892831932006,  \n",
      "5.40659848666555, 4.37131590388065, 4.17287736973744, 3.81020046729932,  \n",
      "3.18514249563821, 2.69272603378357, 1.65474286344309, 4.98290321041136,  \n",
      "6.30714578815309, 2.47465045923392, 1.1189609952358, 2.17922358560418,  \n",
      "1.58566915310148, 2.86895998169964, 3.49344743562697, 2.08719401734007,  \n",
      "0.052770106190118, 0.59528185753668, 2.58940103715813, 0.196016615119232,  \n",
      "2.58992461357713, 2.06894168170247, 5.44423676476449, 4.48336099112479,  \n",
      "5.03390362346192, 4.58777777959941, 5.58868182821341, 1.95426279534256,  \n",
      "2.40800710866018, 0.878181089852845, 1.65023945229536, 4.03076617070305,  \n",
      "3.57504316202101, 2.31220209936129, 0.855102501612132, 1.829043786146,  \n",
      "0.877198755562255, 1.02082034932092, 1.80853877915701, 1.15726696141281,  \n",
      "0.930644411393882, 0.953489973975335, 1.78370688951458, 0.102927473484191,  \n",
      "-0.102177063586097, 4.52155675937815, 8.35662789599819, 5.36871596722811,  \n",
      "7.74433796718671, 5.44135288496921, 5.64680263324311, 4.43387914123446,  \n",
      "4.64954948090065, 6.4989936329898, 6.507339379886, 6.14167105184313,  \n",
      "5.63675183693024, 1.78626760276496, 0.961870239620093, 5.6055274700607,  \n",
      "3.09856687815619, 4.82684096666783, 3.1470330873419), len_T = c(1,  \n",
      "1, 1, 1, 1, 1, 1, 1, 1, 1, 1, 1, 1, 1, 1, 1, 1, 1, 1, 1, 1, 1,  \n",
      "1, 1, 1, 1, 1, 1, 1, 1, 1, 1, 1, 1, 1, 1, 1, 1, 1, 1, 1, 1, 1,  \n",
      "1, 1, 1, 1, 1, 1, 1, 1, 1, 1, 1, 1, 1, 1, 1, 1, 1, 1, 1, 1, 1,  \n",
      "1, 1, 1, 1, 1, 1, 1, 1, 1, 1, 1, 1, 1, 1, 1, 1, 1, 1, 1, 1, 1,  \n",
      "1, 1, 1, 1, 1), T = c(0, 1, 1, 0, 0, 1, 0, 1, 0, 1, 1, 0, 1,  \n",
      "0, 1, 0, 1, 0, 0, 1, 0, 1, 1, 0, 1, 0, 0, 1, 1, 0, 0, 1, 1, 0,  \n",
      "0, 1, 1, 0, 1, 0, 0, 1, 1, 0, 0, 1, 1, 0, 0, 1, 1, 0, 1, 0, 0,  \n",
      "1, 0, 1, 0, 1, 0, 1, 1, 0, 1, 0, 1, 0, 0, 1, 1, 0, 0, 1, 0, 1,  \n",
      "1, 0, 1, 0, 0, 1, 0, 1, 0, 1, 0, 1, 1, 0), t = c(1, 2, 3, 4,  \n",
      "5, 6, 1, 2, 3, 4, 5, 6, 1, 2, 3, 4, 5, 6, 1, 2, 3, 4, 5, 6, 1,  \n",
      "2, 3, 4, 5, 6, 1, 2, 3, 4, 5, 6, 1, 2, 3, 4, 5, 6, 1, 2, 3, 4,  \n",
      "5, 6, 1, 2, 3, 4, 5, 6, 1, 2, 3, 4, 5, 6, 1, 2, 3, 4, 5, 6, 1,  \n",
      "2, 3, 4, 5, 6, 1, 2, 3, 4, 5, 6, 1, 2, 3, 4, 5, 6, 1, 2, 3, 4,  \n",
      "5, 6), c0 = c(0, 0, 1, 1, 0, 0, 0, 0, 1, 0, 1, 1, 0, 1, 0, 1,  \n",
      "0, 1, 0, 0, 1, 0, 1, 1, 0, 1, 0, 0, 1, 1, 0, 0, 1, 1, 0, 0, 0,  \n",
      "1, 0, 1, 0, 0, 0, 1, 0, 0, 1, 1, 0, 0, 1, 1, 0, 1, 0, 0, 1, 0,  \n",
      "1, 0, 0, 0, 1, 1, 0, 1, 0, 1, 0, 0, 1, 1, 0, 0, 1, 0, 1, 1, 0,  \n",
      "1, 0, 0, 1, 0, 0, 0, 1, 0, 1, 1), sub = c(1, 1, 1, 1, 1, 1, 2,  \n",
      "2, 2, 2, 2, 2, 3, 3, 3, 3, 3, 3, 4, 4, 4, 4, 4, 4, 5, 5, 5, 5,  \n",
      "5, 5, 6, 6, 6, 6, 6, 6, 7, 7, 7, 7, 7, 7, 8, 8, 8, 8, 8, 8, 9,  \n",
      "9, 9, 9, 9, 9, 10, 10, 10, 10, 10, 10, 11, 11, 11, 11, 11, 11,  \n",
      "12, 12, 12, 12, 12, 12, 13, 13, 13, 13, 13, 13, 14, 14, 14, 14,  \n",
      "14, 14, 15, 15, 15, 15, 15, 15)), class = \"data.frame\", row.names = c(\"0\",  \n",
      "\"1\", \"2\", \"3\", \"4\", \"5\", \"6\", \"7\", \"8\", \"9\", \"10\", \"11\", \"12\",  \n",
      "\"13\", \"14\", \"15\", \"16\", \"17\", \"18\", \"19\", \"20\", \"21\", \"22\", \"23\",  \n",
      "\"24\", \"25\", \"26\", \"27\", \"28\", \"29\", \"30\", \"31\", \"32\", \"33\", \"34\",  \n",
      "\"35\", \"36\", \"37\", \"38\", \"39\", \"40\", \"41\", \"42\", \"43\", \"44\", \"45\",  \n",
      "\"46\", \"47\", \"48\", \"49\", \"50\", \"51\", \"52\", \"53\", \"54\", \"55\", \"56\",  \n",
      "\"57\", \"58\", \"59\", \"60\", \"61\", \"62\", \"63\", \"64\", \"65\", \"66\", \"67\",  \n",
      "\"68\", \"69\", \"70\", \"71\", \"72\", \"73\", \"74\", \"75\", \"76\", \"77\", \"78\",  \n",
      "\"79\", \"80\", \"81\", \"82\", \"83\", \"84\", \"85\", \"86\", \"87\", \"88\", \"89\" ))\n",
      "\n",
      "REML criterion at convergence: 304.8\n",
      "\n",
      "Scaled residuals: \n",
      "     Min       1Q   Median       3Q      Max \n",
      "-2.21289 -0.65723 -0.06542  0.71742  2.67033 \n",
      "\n",
      "Random effects:\n",
      " Groups   Name        Variance Std.Dev.\n",
      " sub      (Intercept) 2.837    1.684   \n",
      " Residual             1.062    1.030   \n",
      "Number of obs: 90, groups:  sub, 15\n",
      "\n",
      "Fixed effects:\n",
      "            Estimate Std. Error      df t value Pr(>|t|)    \n",
      "(Intercept)   2.5831     0.5168 24.2214   4.998 4.08e-05 ***\n",
      "T             0.1625     0.2421 72.0649   0.671   0.5043    \n",
      "t             0.1813     0.0697 72.0564   2.601   0.0113 *  \n",
      "c0           -0.4069     0.2654 72.3151  -1.533   0.1296    \n",
      "---\n",
      "Signif. codes:  0 ‘***’ 0.001 ‘**’ 0.01 ‘*’ 0.05 ‘.’ 0.1 ‘ ’ 1\n",
      "\n",
      "Correlation of Fixed Effects:\n",
      "   (Intr) T      t     \n",
      "T  -0.247              \n",
      "t  -0.335 -0.186       \n",
      "c0 -0.138  0.441 -0.409\n",
      "fit warnings:\n",
      "fixed-effect model matrix is rank deficient so dropping 1 column / coefficient\n",
      "\n"
     ]
    }
   ],
   "source": [
    "fm2 = lmertest.lmer('y0 ~ (1|sub) + len_T + T + t + c0', data = endogexog)\n",
    "print(base.summary(fm2))"
   ]
  },
  {
   "cell_type": "markdown",
   "id": "783cc007-5161-430b-84e7-a7661213600d",
   "metadata": {},
   "source": [
    "## try to extract p-values"
   ]
  },
  {
   "cell_type": "code",
   "execution_count": 91,
   "id": "c4d66b25-36f2-45d4-bcf4-2735646bc387",
   "metadata": {},
   "outputs": [
    {
     "name": "stderr",
     "output_type": "stream",
     "text": [
      "R[write to console]: fixed-effect model matrix is rank deficient so dropping 1 column / coefficient\n",
      "\n"
     ]
    },
    {
     "name": "stdout",
     "output_type": "stream",
     "text": [
      "Type III Analysis of Variance Table with Satterthwaite's method\n",
      "      Sum Sq Mean Sq NumDF  DenDF F value  Pr(>F)  \n",
      "T     0.4783  0.4783     1 72.065  0.4505 0.50426  \n",
      "t     7.1845  7.1845     1 72.056  6.7667 0.01126 *\n",
      "c0    2.4954  2.4954     1 72.315  2.3502 0.12963  \n",
      "len_T                                              \n",
      "---\n",
      "Signif. codes:  0 ‘***’ 0.001 ‘**’ 0.01 ‘*’ 0.05 ‘.’ 0.1 ‘ ’ 1\n",
      "\n"
     ]
    }
   ],
   "source": [
    "fm2 = lmertest.lmer('y0 ~ (1|sub) + len_T + T + t + c0', data = endogexog)\n",
    "print(stats.anova(fm2))"
   ]
  },
  {
   "cell_type": "code",
   "execution_count": 138,
   "id": "2c04d2bc-0940-4dc4-a948-072705a54e44",
   "metadata": {},
   "outputs": [],
   "source": [
    "fm2anova = stats.anova(fm2)"
   ]
  },
  {
   "cell_type": "code",
   "execution_count": 141,
   "id": "39795148-7413-4231-bb45-151ae24893ab",
   "metadata": {},
   "outputs": [
    {
     "data": {
      "text/plain": [
       "array([0.50425741, 0.0112643 , 0.12962892,        nan])"
      ]
     },
     "execution_count": 141,
     "metadata": {},
     "output_type": "execute_result"
    }
   ],
   "source": [
    "fm2anova.rx2(\"Pr(>F)\") # p_values"
   ]
  }
 ],
 "metadata": {
  "kernelspec": {
   "display_name": "Python 3 (ipykernel)",
   "language": "python",
   "name": "python3"
  },
  "language_info": {
   "codemirror_mode": {
    "name": "ipython",
    "version": 3
   },
   "file_extension": ".py",
   "mimetype": "text/x-python",
   "name": "python",
   "nbconvert_exporter": "python",
   "pygments_lexer": "ipython3",
   "version": "3.8.10"
  }
 },
 "nbformat": 4,
 "nbformat_minor": 5
}
