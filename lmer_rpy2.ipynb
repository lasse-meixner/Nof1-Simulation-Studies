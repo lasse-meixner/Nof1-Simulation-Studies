{
 "cells": [
  {
   "cell_type": "markdown",
   "id": "6db2b8b5-4d64-4cd4-89d2-40289d49fd70",
   "metadata": {},
   "source": [
    "# LMER in rpy2"
   ]
  },
  {
   "cell_type": "raw",
   "id": "f8c8fcb9-a488-48e4-8acd-5d7bc4e74859",
   "metadata": {},
   "source": [
    "# Install R and Rpy2\n",
    "!apt-get install r-base"
   ]
  },
  {
   "cell_type": "raw",
   "id": "0f3ceb83-b44d-41ca-a6cf-4cd25f1b2bb9",
   "metadata": {},
   "source": [
    "!pip install rpy2"
   ]
  },
  {
   "cell_type": "raw",
   "id": "c6d65e42-d624-47bf-8c7d-29be02aa8d0c",
   "metadata": {},
   "source": [
    "!pip install statsmodels"
   ]
  },
  {
   "cell_type": "code",
   "execution_count": 1,
   "id": "9f6a330d-e97b-45b4-a853-0b640fc0602f",
   "metadata": {},
   "outputs": [],
   "source": [
    "%load_ext autoreload\n",
    "%autoreload 2"
   ]
  },
  {
   "cell_type": "code",
   "execution_count": 6,
   "id": "86282942-5249-437a-a948-202e16eccc2b",
   "metadata": {},
   "outputs": [],
   "source": [
    "from CrossOverExperiment import CrossOverExperiment, RCT\n",
    "\n",
    "import rpy2\n",
    "\n",
    "# Install LMER packages (THIS TAKES ABOUT 3~5 minutes)\n",
    "packnames = ('lme4', 'lmerTest', 'emmeans', \"geepack\")\n",
    "from rpy2.robjects.packages import importr, data\n",
    "from rpy2.robjects.vectors import StrVector\n",
    "\n",
    "utils = importr(\"utils\")\n",
    "utils.chooseCRANmirror(ind=1)\n",
    "\n",
    "import pandas as pd\n",
    "import rpy2.robjects as robjects\n",
    "from rpy2.ipython.ggplot import image_png\n",
    "from rpy2.robjects import pandas2ri# Defining the R script and loading the instance in Python\n",
    "r = robjects.r\n",
    "\n",
    "from statsmodels.api import MixedLM\n",
    "\n",
    "\n",
    "import numpy as np\n",
    "import pandas as pd\n",
    "\n",
    "pandas2ri.activate()"
   ]
  },
  {
   "cell_type": "markdown",
   "id": "52c3ff4a-2440-4588-950d-4fd073fc9325",
   "metadata": {},
   "source": [
    "### I had to install all these in this order before getting lme4 to work with rpy2"
   ]
  },
  {
   "cell_type": "raw",
   "id": "b4babec5-301a-47c8-9607-6b289ba5c9a1",
   "metadata": {
    "jupyter": {
     "outputs_hidden": true
    },
    "tags": []
   },
   "source": [
    "utils.install_packages(\"Rcpp\")"
   ]
  },
  {
   "cell_type": "raw",
   "id": "9ac01ffd-d735-403b-a1cb-2fa4ac28dbab",
   "metadata": {
    "tags": []
   },
   "source": [
    "utils.install_packages(\"crayon\")"
   ]
  },
  {
   "cell_type": "raw",
   "id": "86b4a730-a946-41b9-89a9-f17e364f6800",
   "metadata": {
    "tags": []
   },
   "source": [
    "utils.install_packages(\"magrittr\")"
   ]
  },
  {
   "cell_type": "raw",
   "id": "fd87bec5-82e7-43aa-bc02-ea81ea2dd0e8",
   "metadata": {
    "tags": []
   },
   "source": [
    "utils.install_packages(StrVector((\"R6\",\"ellipsis\")))"
   ]
  },
  {
   "cell_type": "raw",
   "id": "b8222afe-53af-47c8-b4a6-53a7322ec93a",
   "metadata": {
    "tags": []
   },
   "source": [
    "utils.install_packages(\"lifecycle\")"
   ]
  },
  {
   "cell_type": "raw",
   "id": "ea957837-e6dd-4d30-ab44-b0162db0214c",
   "metadata": {
    "tags": []
   },
   "source": [
    "utils.install_packages(\"withr\")"
   ]
  },
  {
   "cell_type": "raw",
   "id": "3c537842-e140-4a5e-bc6e-3e779900524c",
   "metadata": {},
   "source": [
    "!sudo apt install cmake"
   ]
  },
  {
   "cell_type": "raw",
   "id": "386942cf-2ef0-4882-8c04-d8ba313282a2",
   "metadata": {
    "tags": []
   },
   "source": [
    "in R in ubuntu install packages \"nloptr\",\"RcppEigen\" (for some reason this didn't work with utils.install_packages())"
   ]
  },
  {
   "cell_type": "raw",
   "id": "efca7eb0-ee5c-42a4-8a67-fd6bb81ad795",
   "metadata": {},
   "source": [
    "utils.install_packages(\"lazyeval\")"
   ]
  },
  {
   "cell_type": "raw",
   "id": "58adccc0-30b6-4436-bc1a-bb86942cf62b",
   "metadata": {
    "jupyter": {
     "outputs_hidden": true
    },
    "tags": []
   },
   "source": [
    "utils.install_packages(StrVector(packnames))"
   ]
  },
  {
   "cell_type": "markdown",
   "id": "25701aa8-5f7a-4b6b-89c0-59304d05e253",
   "metadata": {},
   "source": [
    "## R imports"
   ]
  },
  {
   "cell_type": "code",
   "execution_count": 7,
   "id": "b05dde19-e3f6-495d-b462-f508bc5b5df8",
   "metadata": {},
   "outputs": [],
   "source": [
    "lme4 = importr('lme4')\n",
    "lmertest = importr('lmerTest')\n",
    "base = importr('base')\n",
    "stats = importr(\"stats\")"
   ]
  },
  {
   "cell_type": "markdown",
   "id": "df4b66bb-081e-471f-a67e-4aa40da38aad",
   "metadata": {},
   "source": [
    "## prepare some test data"
   ]
  },
  {
   "cell_type": "code",
   "execution_count": 8,
   "id": "f48aa489-c118-428b-8224-c8e7f9c3e935",
   "metadata": {},
   "outputs": [
    {
     "data": {
      "text/plain": [
       "{'Subjects': 15,\n",
       " 'Periods': 6,\n",
       " 'Base Effect': 2,\n",
       " 'Mu': 1,\n",
       " 'Tau': 0.2,\n",
       " 'Carryover Effect': 0.1,\n",
       " 'Alpha Standard Deviation': 2,\n",
       " 'Epsilon Standard Deviation': 1,\n",
       " 'Error Structure': 'whatever, statsmodels supports only idiosyncratic'}"
      ]
     },
     "execution_count": 8,
     "metadata": {},
     "output_type": "execute_result"
    }
   ],
   "source": [
    "crossover_experiment = CrossOverExperiment(subjects=15,periods=6,base_effect=2,mu=1,tau=0.2,carryover=0.1,alpha_sd=2,epsilon_sd=1,error_type=\"whatever, statsmodels supports only idiosyncratic\")\n",
    "crossover_experiment.params"
   ]
  },
  {
   "cell_type": "code",
   "execution_count": 9,
   "id": "5ee1cc91-477f-439d-936b-be2503f0d78b",
   "metadata": {},
   "outputs": [],
   "source": [
    "(y0,y1),sub,T,t,cO = crossover_experiment.generate_data(return_for_t=False)"
   ]
  },
  {
   "cell_type": "code",
   "execution_count": 10,
   "id": "3bff06ac-f4e9-4dac-8023-9024721b5e72",
   "metadata": {},
   "outputs": [],
   "source": [
    "exog = pd.DataFrame(np.array([np.ones(len(T)),T,t,cO,sub]).T)#.reset_index()\n",
    "exog.columns = [\"len_T\", \"T\", \"t\", \"c0\", \"sub\"]\n",
    "\n",
    "endog = pd.DataFrame(y0)\n",
    "endog.columns = [\"y0\"]\n",
    "\n",
    "endogexog = pd.concat([endog,exog], axis=1)"
   ]
  },
  {
   "cell_type": "code",
   "execution_count": 18,
   "id": "14f70c6d-40ec-4559-9db4-1c51b0dcab95",
   "metadata": {},
   "outputs": [],
   "source": [
    "import statsmodels.api as sm"
   ]
  },
  {
   "cell_type": "code",
   "execution_count": 17,
   "id": "ed9e0c67-08f6-40bd-b853-888a690f6bee",
   "metadata": {},
   "outputs": [
    {
     "name": "stdout",
     "output_type": "stream",
     "text": [
      "statsmodels==0.13.2\n"
     ]
    }
   ],
   "source": [
    "!pip freeze | grep statsmodels"
   ]
  },
  {
   "cell_type": "code",
   "execution_count": 24,
   "id": "e6d06960-63ac-4e1e-b302-5f788744db6d",
   "metadata": {},
   "outputs": [],
   "source": [
    " mlm0 = sm.MixedLM(endog=y0,exog=np.array([np.ones(len(T)),T,t,cO]).T,groups=sub).fit()#.pvalues[1]"
   ]
  },
  {
   "cell_type": "code",
   "execution_count": 25,
   "id": "56f9b56c-6c1d-499e-a3bd-d865a12d8ce4",
   "metadata": {},
   "outputs": [
    {
     "data": {
      "text/plain": [
       "array([2.00762592e-05, 4.68208609e-01, 7.36077458e-02, 2.90028631e-01,\n",
       "       2.12449124e-02])"
      ]
     },
     "execution_count": 25,
     "metadata": {},
     "output_type": "execute_result"
    }
   ],
   "source": [
    "mlm0.pvalues"
   ]
  },
  {
   "cell_type": "markdown",
   "id": "e5e96b86-01f2-4ce8-8667-f3a48bb44d62",
   "metadata": {},
   "source": [
    "## try 2 ways"
   ]
  },
  {
   "cell_type": "code",
   "execution_count": null,
   "id": "bbe91122-6bcf-429b-a3cc-87ef040456c0",
   "metadata": {
    "tags": []
   },
   "outputs": [],
   "source": [
    "fm1 = lme4.lmer('y0 ~ (1|sub) + len_T + T + t + c0', data = endogexog)\n",
    "print(base.summary(fm1))"
   ]
  },
  {
   "cell_type": "code",
   "execution_count": 26,
   "id": "dddec447-0812-4063-b108-f674b03054a0",
   "metadata": {
    "collapsed": true,
    "jupyter": {
     "outputs_hidden": true
    },
    "tags": []
   },
   "outputs": [
    {
     "name": "stderr",
     "output_type": "stream",
     "text": [
      "R[write to console]: fixed-effect model matrix is rank deficient so dropping 1 column / coefficient\n",
      "\n"
     ]
    },
    {
     "name": "stdout",
     "output_type": "stream",
     "text": [
      "Linear mixed model fit by REML. t-tests use Satterthwaite's method [\n",
      "lmerModLmerTest]\n",
      "Formula: \"y0 ~ (1|sub) + len_T + T + t + c0\"\n",
      "   Data: \n",
      "structure(list(y0 = c(-1.2447649444855, -0.521565199574813, 0.159886812301275,  \n",
      "0.503712450503257, 0.057632139907297, -0.996068299082466, 2.55613584844934,  \n",
      "5.55130665986866, 5.5049770966758, 4.96889284945018, 5.04155665368426,  \n",
      "6.66933794908449, 5.4196055971863, 4.74949422725179, 4.47509810237004,  \n",
      "6.08825632019904, 4.55750937548632, 6.65558909674113, 3.14541778345784,  \n",
      "2.35291009461571, 6.56806768932887, 3.21863103793614, 2.84910969392112,  \n",
      "3.52862254406408, 1.53298222583852, 5.19127586190146, 1.91389881190012,  \n",
      "2.08135376927231, 2.26271416057902, 0.758822278992021, 1.27715641866361,  \n",
      "2.22050325208836, 1.26159756146612, 0.744119449773743, 1.66487532596779,  \n",
      "0.724930022776273, 1.33047454578612, 0.527689317775565, 1.71760323744939,  \n",
      "0.727724549807137, 2.70767771343855, 2.04486565935174, 1.22250549593351,  \n",
      "-0.611024821247994, 1.72937687666247, 0.421437825141319, 1.70218230050123,  \n",
      "-0.134791054112138, 0.32450495708723, 1.88199091229269, 0.486882788234256,  \n",
      "-0.209117239786363, 0.28654356133259, 1.28306150331719, 1.04801052836576,  \n",
      "0.537245176769267, -0.216443056712621, -0.562509154184273, 0.825739141268791,  \n",
      "1.71912053700145, 4.84972248495762, 3.76887153774046, 3.63304718684423,  \n",
      "3.80850620468645, 3.57240029492416, 5.46038079750794, 3.75869421725289,  \n",
      "3.18943513540224, 3.18368470723931, 4.35257590790879, 3.69871904799244,  \n",
      "4.68135314558881, 2.71208896042264, 1.61478918899336, 0.320755909578322,  \n",
      "0.663733560001355, 1.65205622018831, 3.39602937553594, 4.22598409286869,  \n",
      "1.4540917721505, 2.92521744216409, 2.45166775565774, 2.00783600987506,  \n",
      "4.18770433187877, 3.74357069445182, 5.73432809920156, 6.5581603034775,  \n",
      "4.94176631693682, 5.83229585341121, 6.37554594491788), len_T = c(1,  \n",
      "1, 1, 1, 1, 1, 1, 1, 1, 1, 1, 1, 1, 1, 1, 1, 1, 1, 1, 1, 1, 1,  \n",
      "1, 1, 1, 1, 1, 1, 1, 1, 1, 1, 1, 1, 1, 1, 1, 1, 1, 1, 1, 1, 1,  \n",
      "1, 1, 1, 1, 1, 1, 1, 1, 1, 1, 1, 1, 1, 1, 1, 1, 1, 1, 1, 1, 1,  \n",
      "1, 1, 1, 1, 1, 1, 1, 1, 1, 1, 1, 1, 1, 1, 1, 1, 1, 1, 1, 1, 1,  \n",
      "1, 1, 1, 1, 1), T = c(1, 0, 0, 1, 1, 0, 1, 0, 1, 0, 0, 1, 1,  \n",
      "0, 1, 0, 0, 1, 1, 0, 0, 1, 1, 0, 0, 1, 0, 1, 1, 0, 0, 1, 0, 1,  \n",
      "0, 1, 0, 1, 0, 1, 0, 1, 0, 1, 1, 0, 1, 0, 0, 1, 1, 0, 1, 0, 0,  \n",
      "1, 0, 1, 0, 1, 0, 1, 0, 1, 1, 0, 1, 0, 1, 0, 1, 0, 1, 0, 1, 0,  \n",
      "1, 0, 1, 0, 1, 0, 1, 0, 0, 1, 0, 1, 0, 1), t = c(1, 2, 3, 4,  \n",
      "5, 6, 1, 2, 3, 4, 5, 6, 1, 2, 3, 4, 5, 6, 1, 2, 3, 4, 5, 6, 1,  \n",
      "2, 3, 4, 5, 6, 1, 2, 3, 4, 5, 6, 1, 2, 3, 4, 5, 6, 1, 2, 3, 4,  \n",
      "5, 6, 1, 2, 3, 4, 5, 6, 1, 2, 3, 4, 5, 6, 1, 2, 3, 4, 5, 6, 1,  \n",
      "2, 3, 4, 5, 6, 1, 2, 3, 4, 5, 6, 1, 2, 3, 4, 5, 6, 1, 2, 3, 4,  \n",
      "5, 6), c0 = c(0, 1, 0, 0, 1, 1, 0, 1, 0, 1, 0, 0, 0, 1, 0, 1,  \n",
      "0, 0, 0, 1, 0, 0, 1, 1, 0, 0, 1, 0, 1, 1, 0, 0, 1, 0, 1, 0, 0,  \n",
      "0, 1, 0, 1, 0, 0, 0, 1, 1, 0, 1, 0, 0, 1, 1, 0, 1, 0, 0, 1, 0,  \n",
      "1, 0, 0, 0, 1, 0, 1, 1, 0, 1, 0, 1, 0, 1, 0, 1, 0, 1, 0, 1, 0,  \n",
      "1, 0, 1, 0, 1, 0, 0, 1, 0, 1, 0), sub = c(1, 1, 1, 1, 1, 1, 2,  \n",
      "2, 2, 2, 2, 2, 3, 3, 3, 3, 3, 3, 4, 4, 4, 4, 4, 4, 5, 5, 5, 5,  \n",
      "5, 5, 6, 6, 6, 6, 6, 6, 7, 7, 7, 7, 7, 7, 8, 8, 8, 8, 8, 8, 9,  \n",
      "9, 9, 9, 9, 9, 10, 10, 10, 10, 10, 10, 11, 11, 11, 11, 11, 11,  \n",
      "12, 12, 12, 12, 12, 12, 13, 13, 13, 13, 13, 13, 14, 14, 14, 14,  \n",
      "14, 14, 15, 15, 15, 15, 15, 15)), class = \"data.frame\", row.names = c(\"0\",  \n",
      "\"1\", \"2\", \"3\", \"4\", \"5\", \"6\", \"7\", \"8\", \"9\", \"10\", \"11\", \"12\",  \n",
      "\"13\", \"14\", \"15\", \"16\", \"17\", \"18\", \"19\", \"20\", \"21\", \"22\", \"23\",  \n",
      "\"24\", \"25\", \"26\", \"27\", \"28\", \"29\", \"30\", \"31\", \"32\", \"33\", \"34\",  \n",
      "\"35\", \"36\", \"37\", \"38\", \"39\", \"40\", \"41\", \"42\", \"43\", \"44\", \"45\",  \n",
      "\"46\", \"47\", \"48\", \"49\", \"50\", \"51\", \"52\", \"53\", \"54\", \"55\", \"56\",  \n",
      "\"57\", \"58\", \"59\", \"60\", \"61\", \"62\", \"63\", \"64\", \"65\", \"66\", \"67\",  \n",
      "\"68\", \"69\", \"70\", \"71\", \"72\", \"73\", \"74\", \"75\", \"76\", \"77\", \"78\",  \n",
      "\"79\", \"80\", \"81\", \"82\", \"83\", \"84\", \"85\", \"86\", \"87\", \"88\", \"89\" ))\n",
      "\n",
      "REML criterion at convergence: 305.7\n",
      "\n",
      "Scaled residuals: \n",
      "     Min       1Q   Median       3Q      Max \n",
      "-2.03037 -0.64106 -0.04098  0.58259  2.95018 \n",
      "\n",
      "Random effects:\n",
      " Groups   Name        Variance Std.Dev.\n",
      " sub      (Intercept) 3.428    1.852   \n",
      " Residual             1.043    1.021   \n",
      "Number of obs: 90, groups:  sub, 15\n",
      "\n",
      "Fixed effects:\n",
      "            Estimate Std. Error       df t value Pr(>|t|)    \n",
      "(Intercept)  2.40137    0.56316 23.92197   4.264 0.000271 ***\n",
      "T           -0.20411    0.28136 72.15179  -0.725 0.470516    \n",
      "t            0.12253    0.06849 72.05606   1.789 0.077801 .  \n",
      "c0          -0.32045    0.30280 72.36567  -1.058 0.293446    \n",
      "---\n",
      "Signif. codes:  0 ‘***’ 0.001 ‘**’ 0.01 ‘*’ 0.05 ‘.’ 0.1 ‘ ’ 1\n",
      "\n",
      "Correlation of Fixed Effects:\n",
      "   (Intr) T      t     \n",
      "T  -0.295              \n",
      "t  -0.273 -0.247       \n",
      "c0 -0.227  0.644 -0.391\n",
      "fit warnings:\n",
      "fixed-effect model matrix is rank deficient so dropping 1 column / coefficient\n",
      "\n"
     ]
    }
   ],
   "source": [
    "fm2 = lmertest.lmer('y0 ~ (1|sub) + len_T + T + t + c0', data = endogexog)\n",
    "print(base.summary(fm2))"
   ]
  },
  {
   "cell_type": "markdown",
   "id": "783cc007-5161-430b-84e7-a7661213600d",
   "metadata": {},
   "source": [
    "## try to extract p-values"
   ]
  },
  {
   "cell_type": "code",
   "execution_count": 27,
   "id": "c4d66b25-36f2-45d4-bcf4-2735646bc387",
   "metadata": {},
   "outputs": [
    {
     "name": "stderr",
     "output_type": "stream",
     "text": [
      "R[write to console]: fixed-effect model matrix is rank deficient so dropping 1 column / coefficient\n",
      "\n"
     ]
    },
    {
     "name": "stdout",
     "output_type": "stream",
     "text": [
      "Type III Analysis of Variance Table with Satterthwaite's method\n",
      "      Sum Sq Mean Sq NumDF  DenDF F value Pr(>F)  \n",
      "T     0.5491  0.5491     1 72.152  0.5263 0.4705  \n",
      "t     3.3394  3.3394     1 72.056  3.2009 0.0778 .\n",
      "c0    1.1684  1.1684     1 72.366  1.1200 0.2934  \n",
      "len_T                                             \n",
      "---\n",
      "Signif. codes:  0 ‘***’ 0.001 ‘**’ 0.01 ‘*’ 0.05 ‘.’ 0.1 ‘ ’ 1\n",
      "\n"
     ]
    }
   ],
   "source": [
    "fm2 = lmertest.lmer('y0 ~ (1|sub) + len_T + T + t + c0', data = endogexog)\n",
    "print(stats.anova(fm2))"
   ]
  },
  {
   "cell_type": "code",
   "execution_count": 29,
   "id": "2c04d2bc-0940-4dc4-a948-072705a54e44",
   "metadata": {},
   "outputs": [],
   "source": [
    "fm2anova = stats.anova(fm2)"
   ]
  },
  {
   "cell_type": "code",
   "execution_count": 30,
   "id": "39795148-7413-4231-bb45-151ae24893ab",
   "metadata": {},
   "outputs": [
    {
     "data": {
      "text/plain": [
       "0.4705158304018363"
      ]
     },
     "execution_count": 30,
     "metadata": {},
     "output_type": "execute_result"
    }
   ],
   "source": [
    "fm2anova.rx2(\"Pr(>F)\")[0] # p_values"
   ]
  }
 ],
 "metadata": {
  "kernelspec": {
   "display_name": "Python 3 (ipykernel)",
   "language": "python",
   "name": "python3"
  },
  "language_info": {
   "codemirror_mode": {
    "name": "ipython",
    "version": 3
   },
   "file_extension": ".py",
   "mimetype": "text/x-python",
   "name": "python",
   "nbconvert_exporter": "python",
   "pygments_lexer": "ipython3",
   "version": "3.8.10"
  }
 },
 "nbformat": 4,
 "nbformat_minor": 5
}
